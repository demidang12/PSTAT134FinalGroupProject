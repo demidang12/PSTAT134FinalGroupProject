{
 "cells": [
  {
   "cell_type": "markdown",
   "metadata": {},
   "source": [
    "## Install and load modules\n",
    "\n",
    "Zipline only works with an older version of pandas. It is necessary to downgrade to the version of pandas that is 0.22.0. We also need to download zipline."
   ]
  },
  {
   "cell_type": "code",
   "execution_count": 2,
   "metadata": {},
   "outputs": [],
   "source": [
    "#!pip install Quantopian\n",
    "#!pip install zipline\n"
   ]
  },
  {
   "cell_type": "code",
   "execution_count": 3,
   "metadata": {},
   "outputs": [],
   "source": [
    "import pytz\n",
    "import pandas as pd\n",
    "import matplotlib.pyplot as plt\n",
    "import seaborn as sn\n",
    "#import zipfile\n",
    "#import zipline\n",
    "import numpy as np\n",
    "#from zipline.api import order, record, symbol\n",
    "#from zipline.assets import Equity, Future\n",
    "#from zipline import run_algorithm\n",
    "from collections import OrderedDict\n",
    "from datetime import datetime\n"
   ]
  },
  {
   "cell_type": "markdown",
   "metadata": {},
   "source": [
    "## Load and Prelimenary Analysis of Data"
   ]
  },
  {
   "cell_type": "code",
   "execution_count": 4,
   "metadata": {},
   "outputs": [
    {
     "data": {
      "text/html": [
       "<div>\n",
       "<style scoped>\n",
       "    .dataframe tbody tr th:only-of-type {\n",
       "        vertical-align: middle;\n",
       "    }\n",
       "\n",
       "    .dataframe tbody tr th {\n",
       "        vertical-align: top;\n",
       "    }\n",
       "\n",
       "    .dataframe thead th {\n",
       "        text-align: right;\n",
       "    }\n",
       "</style>\n",
       "<table border=\"1\" class=\"dataframe\">\n",
       "  <thead>\n",
       "    <tr style=\"text-align: right;\">\n",
       "      <th></th>\n",
       "      <th>ticker</th>\n",
       "      <th>Date</th>\n",
       "      <th>open</th>\n",
       "      <th>high</th>\n",
       "      <th>low</th>\n",
       "      <th>close</th>\n",
       "      <th>adj close</th>\n",
       "      <th>volume</th>\n",
       "    </tr>\n",
       "  </thead>\n",
       "  <tbody>\n",
       "    <tr>\n",
       "      <th>0</th>\n",
       "      <td>AAPL</td>\n",
       "      <td>2018-01-02</td>\n",
       "      <td>170.16</td>\n",
       "      <td>172.30</td>\n",
       "      <td>169.26</td>\n",
       "      <td>172.26</td>\n",
       "      <td>168.34</td>\n",
       "      <td>25555900</td>\n",
       "    </tr>\n",
       "    <tr>\n",
       "      <th>1</th>\n",
       "      <td>AAPL</td>\n",
       "      <td>2018-01-03</td>\n",
       "      <td>172.53</td>\n",
       "      <td>174.55</td>\n",
       "      <td>171.96</td>\n",
       "      <td>172.23</td>\n",
       "      <td>168.31</td>\n",
       "      <td>29517900</td>\n",
       "    </tr>\n",
       "    <tr>\n",
       "      <th>2</th>\n",
       "      <td>AAPL</td>\n",
       "      <td>2018-01-04</td>\n",
       "      <td>172.54</td>\n",
       "      <td>173.47</td>\n",
       "      <td>172.08</td>\n",
       "      <td>173.03</td>\n",
       "      <td>169.09</td>\n",
       "      <td>22434600</td>\n",
       "    </tr>\n",
       "    <tr>\n",
       "      <th>3</th>\n",
       "      <td>AAPL</td>\n",
       "      <td>2018-01-05</td>\n",
       "      <td>173.44</td>\n",
       "      <td>175.37</td>\n",
       "      <td>173.05</td>\n",
       "      <td>175.00</td>\n",
       "      <td>171.02</td>\n",
       "      <td>23660000</td>\n",
       "    </tr>\n",
       "    <tr>\n",
       "      <th>4</th>\n",
       "      <td>AAPL</td>\n",
       "      <td>2018-01-08</td>\n",
       "      <td>174.35</td>\n",
       "      <td>175.61</td>\n",
       "      <td>173.93</td>\n",
       "      <td>174.35</td>\n",
       "      <td>170.38</td>\n",
       "      <td>20567800</td>\n",
       "    </tr>\n",
       "  </tbody>\n",
       "</table>\n",
       "</div>"
      ],
      "text/plain": [
       "  ticker       Date    open    high     low   close  adj close    volume\n",
       "0   AAPL 2018-01-02  170.16  172.30  169.26  172.26     168.34  25555900\n",
       "1   AAPL 2018-01-03  172.53  174.55  171.96  172.23     168.31  29517900\n",
       "2   AAPL 2018-01-04  172.54  173.47  172.08  173.03     169.09  22434600\n",
       "3   AAPL 2018-01-05  173.44  175.37  173.05  175.00     171.02  23660000\n",
       "4   AAPL 2018-01-08  174.35  175.61  173.93  174.35     170.38  20567800"
      ]
     },
     "execution_count": 4,
     "metadata": {},
     "output_type": "execute_result"
    }
   ],
   "source": [
    "# Stock in our portfolio\n",
    "stocks  = [\"AAPL\", \"AMZN\", \"BA\", \"FB\", \"GOOG\", \"MA\", \"MSFT\", \"NVDA\", \"UNH\", \"V\"]\n",
    "\n",
    "# Calculate the weekly and yearly returns for stocks\n",
    "stockList = []\n",
    "# Creates a dataframe from CSV and saves to a list\n",
    "for stock in stocks:\n",
    "    df = pd.read_csv(\"{}.csv\".format(stock), index_col =0, parse_dates=['Date'])\n",
    "    stockList.append(df)   \n",
    "# Creates a dataframe from the list of dataframes\n",
    "stockdf = pd.concat(stockList, keys=stocks)\n",
    "stockdf = stockdf.reset_index()\n",
    "stockdf.rename(index=str, columns={\"level_0\":\"ticker\"}, inplace=True)\n",
    "# Impute missing values\n",
    "stockdf.head(5)"
   ]
  },
  {
   "cell_type": "code",
   "execution_count": 5,
   "metadata": {
    "scrolled": false
   },
   "outputs": [
    {
     "data": {
      "text/html": [
       "<div>\n",
       "<style scoped>\n",
       "    .dataframe tbody tr th:only-of-type {\n",
       "        vertical-align: middle;\n",
       "    }\n",
       "\n",
       "    .dataframe tbody tr th {\n",
       "        vertical-align: top;\n",
       "    }\n",
       "\n",
       "    .dataframe thead th {\n",
       "        text-align: right;\n",
       "    }\n",
       "</style>\n",
       "<table border=\"1\" class=\"dataframe\">\n",
       "  <thead>\n",
       "    <tr style=\"text-align: right;\">\n",
       "      <th>ticker</th>\n",
       "      <th>AAPL</th>\n",
       "      <th>AMZN</th>\n",
       "      <th>BA</th>\n",
       "      <th>FB</th>\n",
       "      <th>GOOG</th>\n",
       "      <th>MA</th>\n",
       "      <th>MSFT</th>\n",
       "      <th>NVDA</th>\n",
       "      <th>UNH</th>\n",
       "      <th>V</th>\n",
       "    </tr>\n",
       "    <tr>\n",
       "      <th>Date</th>\n",
       "      <th></th>\n",
       "      <th></th>\n",
       "      <th></th>\n",
       "      <th></th>\n",
       "      <th></th>\n",
       "      <th></th>\n",
       "      <th></th>\n",
       "      <th></th>\n",
       "      <th></th>\n",
       "      <th></th>\n",
       "    </tr>\n",
       "  </thead>\n",
       "  <tbody>\n",
       "    <tr>\n",
       "      <th>2018-01-02</th>\n",
       "      <td>NaN</td>\n",
       "      <td>NaN</td>\n",
       "      <td>NaN</td>\n",
       "      <td>NaN</td>\n",
       "      <td>NaN</td>\n",
       "      <td>NaN</td>\n",
       "      <td>NaN</td>\n",
       "      <td>NaN</td>\n",
       "      <td>NaN</td>\n",
       "      <td>NaN</td>\n",
       "    </tr>\n",
       "    <tr>\n",
       "      <th>2018-01-03</th>\n",
       "      <td>-0.000178</td>\n",
       "      <td>0.012694</td>\n",
       "      <td>0.003224</td>\n",
       "      <td>0.017756</td>\n",
       "      <td>0.016280</td>\n",
       "      <td>0.012470</td>\n",
       "      <td>0.004642</td>\n",
       "      <td>0.063763</td>\n",
       "      <td>0.010433</td>\n",
       "      <td>0.009917</td>\n",
       "    </tr>\n",
       "    <tr>\n",
       "      <th>2018-01-04</th>\n",
       "      <td>0.004624</td>\n",
       "      <td>0.004466</td>\n",
       "      <td>-0.003814</td>\n",
       "      <td>-0.001843</td>\n",
       "      <td>0.003615</td>\n",
       "      <td>0.012899</td>\n",
       "      <td>0.008749</td>\n",
       "      <td>0.005236</td>\n",
       "      <td>0.004315</td>\n",
       "      <td>0.003661</td>\n",
       "    </tr>\n",
       "  </tbody>\n",
       "</table>\n",
       "</div>"
      ],
      "text/plain": [
       "ticker          AAPL      AMZN        BA        FB      GOOG        MA  \\\n",
       "Date                                                                     \n",
       "2018-01-02       NaN       NaN       NaN       NaN       NaN       NaN   \n",
       "2018-01-03 -0.000178  0.012694  0.003224  0.017756  0.016280  0.012470   \n",
       "2018-01-04  0.004624  0.004466 -0.003814 -0.001843  0.003615  0.012899   \n",
       "\n",
       "ticker          MSFT      NVDA       UNH         V  \n",
       "Date                                                \n",
       "2018-01-02       NaN       NaN       NaN       NaN  \n",
       "2018-01-03  0.004642  0.063763  0.010433  0.009917  \n",
       "2018-01-04  0.008749  0.005236  0.004315  0.003661  "
      ]
     },
     "execution_count": 5,
     "metadata": {},
     "output_type": "execute_result"
    }
   ],
   "source": [
    "# To computer the covariance matrix , turn data into long format with pivot table\n",
    "datawide = pd.pivot_table(stockdf, values='adj close', index=['Date'], columns='ticker')\n",
    "returns = np.log(datawide).diff()\n",
    "returns.head(3)"
   ]
  },
  {
   "cell_type": "markdown",
   "metadata": {},
   "source": [
    "## Log Return"
   ]
  },
  {
   "cell_type": "code",
   "execution_count": 6,
   "metadata": {},
   "outputs": [
    {
     "data": {
      "text/html": [
       "<div>\n",
       "<style scoped>\n",
       "    .dataframe tbody tr th:only-of-type {\n",
       "        vertical-align: middle;\n",
       "    }\n",
       "\n",
       "    .dataframe tbody tr th {\n",
       "        vertical-align: top;\n",
       "    }\n",
       "\n",
       "    .dataframe thead th {\n",
       "        text-align: right;\n",
       "    }\n",
       "</style>\n",
       "<table border=\"1\" class=\"dataframe\">\n",
       "  <thead>\n",
       "    <tr style=\"text-align: right;\">\n",
       "      <th>ticker</th>\n",
       "      <th>AAPL</th>\n",
       "      <th>AMZN</th>\n",
       "      <th>BA</th>\n",
       "      <th>FB</th>\n",
       "      <th>GOOG</th>\n",
       "      <th>MA</th>\n",
       "      <th>MSFT</th>\n",
       "      <th>NVDA</th>\n",
       "      <th>UNH</th>\n",
       "      <th>V</th>\n",
       "    </tr>\n",
       "    <tr>\n",
       "      <th>Date</th>\n",
       "      <th></th>\n",
       "      <th></th>\n",
       "      <th></th>\n",
       "      <th></th>\n",
       "      <th></th>\n",
       "      <th></th>\n",
       "      <th></th>\n",
       "      <th></th>\n",
       "      <th></th>\n",
       "      <th></th>\n",
       "    </tr>\n",
       "  </thead>\n",
       "  <tbody>\n",
       "    <tr>\n",
       "      <th>2018-01-02</th>\n",
       "      <td>NaN</td>\n",
       "      <td>NaN</td>\n",
       "      <td>NaN</td>\n",
       "      <td>NaN</td>\n",
       "      <td>NaN</td>\n",
       "      <td>NaN</td>\n",
       "      <td>NaN</td>\n",
       "      <td>NaN</td>\n",
       "      <td>NaN</td>\n",
       "      <td>NaN</td>\n",
       "    </tr>\n",
       "    <tr>\n",
       "      <th>2018-01-03</th>\n",
       "      <td>-0.000178</td>\n",
       "      <td>0.012694</td>\n",
       "      <td>0.003224</td>\n",
       "      <td>0.017756</td>\n",
       "      <td>0.016280</td>\n",
       "      <td>0.012470</td>\n",
       "      <td>0.004642</td>\n",
       "      <td>0.063763</td>\n",
       "      <td>0.010433</td>\n",
       "      <td>0.009917</td>\n",
       "    </tr>\n",
       "    <tr>\n",
       "      <th>2018-01-04</th>\n",
       "      <td>0.004624</td>\n",
       "      <td>0.004466</td>\n",
       "      <td>-0.003814</td>\n",
       "      <td>-0.001843</td>\n",
       "      <td>0.003615</td>\n",
       "      <td>0.012899</td>\n",
       "      <td>0.008749</td>\n",
       "      <td>0.005236</td>\n",
       "      <td>0.004315</td>\n",
       "      <td>0.003661</td>\n",
       "    </tr>\n",
       "    <tr>\n",
       "      <th>2018-01-05</th>\n",
       "      <td>0.011349</td>\n",
       "      <td>0.016033</td>\n",
       "      <td>0.040209</td>\n",
       "      <td>0.013579</td>\n",
       "      <td>0.014466</td>\n",
       "      <td>0.020502</td>\n",
       "      <td>0.012284</td>\n",
       "      <td>0.008434</td>\n",
       "      <td>0.018903</td>\n",
       "      <td>0.023731</td>\n",
       "    </tr>\n",
       "    <tr>\n",
       "      <th>2018-01-08</th>\n",
       "      <td>-0.003749</td>\n",
       "      <td>0.014322</td>\n",
       "      <td>0.004229</td>\n",
       "      <td>0.007624</td>\n",
       "      <td>0.004264</td>\n",
       "      <td>0.003039</td>\n",
       "      <td>0.001046</td>\n",
       "      <td>0.030193</td>\n",
       "      <td>-0.017499</td>\n",
       "      <td>0.003986</td>\n",
       "    </tr>\n",
       "  </tbody>\n",
       "</table>\n",
       "</div>"
      ],
      "text/plain": [
       "ticker          AAPL      AMZN        BA        FB      GOOG        MA  \\\n",
       "Date                                                                     \n",
       "2018-01-02       NaN       NaN       NaN       NaN       NaN       NaN   \n",
       "2018-01-03 -0.000178  0.012694  0.003224  0.017756  0.016280  0.012470   \n",
       "2018-01-04  0.004624  0.004466 -0.003814 -0.001843  0.003615  0.012899   \n",
       "2018-01-05  0.011349  0.016033  0.040209  0.013579  0.014466  0.020502   \n",
       "2018-01-08 -0.003749  0.014322  0.004229  0.007624  0.004264  0.003039   \n",
       "\n",
       "ticker          MSFT      NVDA       UNH         V  \n",
       "Date                                                \n",
       "2018-01-02       NaN       NaN       NaN       NaN  \n",
       "2018-01-03  0.004642  0.063763  0.010433  0.009917  \n",
       "2018-01-04  0.008749  0.005236  0.004315  0.003661  \n",
       "2018-01-05  0.012284  0.008434  0.018903  0.023731  \n",
       "2018-01-08  0.001046  0.030193 -0.017499  0.003986  "
      ]
     },
     "execution_count": 6,
     "metadata": {},
     "output_type": "execute_result"
    }
   ],
   "source": [
    "logret = np.log(datawide).diff()\n",
    "logret.head()"
   ]
  },
  {
   "cell_type": "markdown",
   "metadata": {},
   "source": [
    "## Estimate Expected Return"
   ]
  },
  {
   "cell_type": "code",
   "execution_count": 7,
   "metadata": {},
   "outputs": [
    {
     "data": {
      "text/plain": [
       "ticker\n",
       "AAPL   -0.000332\n",
       "AMZN    0.000874\n",
       "BA      0.000334\n",
       "FB     -0.001241\n",
       "GOOG   -0.000107\n",
       "MA      0.000838\n",
       "MSFT    0.000692\n",
       "NVDA   -0.001595\n",
       "UNH     0.000485\n",
       "V       0.000565\n",
       "dtype: float64"
      ]
     },
     "execution_count": 7,
     "metadata": {},
     "output_type": "execute_result"
    }
   ],
   "source": [
    "mu = logret[1:].mean()\n",
    "mu"
   ]
  },
  {
   "cell_type": "markdown",
   "metadata": {},
   "source": [
    "## Estimate Covariance Matrix\n",
    "We use two function here: \n",
    "sklearn.covariance.LedoitWolf: for large sample size \n",
    "sklearn.covariance.OAS: small sample size, assumption under Gaussian\n",
    "Advantage: "
   ]
  },
  {
   "cell_type": "code",
   "execution_count": 8,
   "metadata": {},
   "outputs": [
    {
     "data": {
      "text/html": [
       "<div>\n",
       "<style scoped>\n",
       "    .dataframe tbody tr th:only-of-type {\n",
       "        vertical-align: middle;\n",
       "    }\n",
       "\n",
       "    .dataframe tbody tr th {\n",
       "        vertical-align: top;\n",
       "    }\n",
       "\n",
       "    .dataframe thead th {\n",
       "        text-align: right;\n",
       "    }\n",
       "</style>\n",
       "<table border=\"1\" class=\"dataframe\">\n",
       "  <thead>\n",
       "    <tr style=\"text-align: right;\">\n",
       "      <th>ticker</th>\n",
       "      <th>AAPL</th>\n",
       "      <th>AMZN</th>\n",
       "      <th>BA</th>\n",
       "      <th>FB</th>\n",
       "      <th>GOOG</th>\n",
       "      <th>MA</th>\n",
       "      <th>MSFT</th>\n",
       "      <th>NVDA</th>\n",
       "      <th>UNH</th>\n",
       "      <th>V</th>\n",
       "    </tr>\n",
       "    <tr>\n",
       "      <th>ticker</th>\n",
       "      <th></th>\n",
       "      <th></th>\n",
       "      <th></th>\n",
       "      <th></th>\n",
       "      <th></th>\n",
       "      <th></th>\n",
       "      <th></th>\n",
       "      <th></th>\n",
       "      <th></th>\n",
       "      <th></th>\n",
       "    </tr>\n",
       "  </thead>\n",
       "  <tbody>\n",
       "    <tr>\n",
       "      <th>AAPL</th>\n",
       "      <td>0.000330</td>\n",
       "      <td>0.000273</td>\n",
       "      <td>0.000190</td>\n",
       "      <td>0.000195</td>\n",
       "      <td>0.000220</td>\n",
       "      <td>0.000236</td>\n",
       "      <td>0.000226</td>\n",
       "      <td>0.000295</td>\n",
       "      <td>0.000141</td>\n",
       "      <td>0.000205</td>\n",
       "    </tr>\n",
       "    <tr>\n",
       "      <th>AMZN</th>\n",
       "      <td>0.000273</td>\n",
       "      <td>0.000521</td>\n",
       "      <td>0.000252</td>\n",
       "      <td>0.000322</td>\n",
       "      <td>0.000305</td>\n",
       "      <td>0.000324</td>\n",
       "      <td>0.000315</td>\n",
       "      <td>0.000463</td>\n",
       "      <td>0.000177</td>\n",
       "      <td>0.000284</td>\n",
       "    </tr>\n",
       "    <tr>\n",
       "      <th>BA</th>\n",
       "      <td>0.000190</td>\n",
       "      <td>0.000252</td>\n",
       "      <td>0.000392</td>\n",
       "      <td>0.000152</td>\n",
       "      <td>0.000207</td>\n",
       "      <td>0.000216</td>\n",
       "      <td>0.000210</td>\n",
       "      <td>0.000328</td>\n",
       "      <td>0.000163</td>\n",
       "      <td>0.000202</td>\n",
       "    </tr>\n",
       "    <tr>\n",
       "      <th>FB</th>\n",
       "      <td>0.000195</td>\n",
       "      <td>0.000322</td>\n",
       "      <td>0.000152</td>\n",
       "      <td>0.000609</td>\n",
       "      <td>0.000266</td>\n",
       "      <td>0.000264</td>\n",
       "      <td>0.000239</td>\n",
       "      <td>0.000381</td>\n",
       "      <td>0.000102</td>\n",
       "      <td>0.000220</td>\n",
       "    </tr>\n",
       "    <tr>\n",
       "      <th>GOOG</th>\n",
       "      <td>0.000220</td>\n",
       "      <td>0.000305</td>\n",
       "      <td>0.000207</td>\n",
       "      <td>0.000266</td>\n",
       "      <td>0.000318</td>\n",
       "      <td>0.000250</td>\n",
       "      <td>0.000263</td>\n",
       "      <td>0.000367</td>\n",
       "      <td>0.000149</td>\n",
       "      <td>0.000230</td>\n",
       "    </tr>\n",
       "    <tr>\n",
       "      <th>MA</th>\n",
       "      <td>0.000236</td>\n",
       "      <td>0.000324</td>\n",
       "      <td>0.000216</td>\n",
       "      <td>0.000264</td>\n",
       "      <td>0.000250</td>\n",
       "      <td>0.000322</td>\n",
       "      <td>0.000262</td>\n",
       "      <td>0.000368</td>\n",
       "      <td>0.000154</td>\n",
       "      <td>0.000262</td>\n",
       "    </tr>\n",
       "    <tr>\n",
       "      <th>MSFT</th>\n",
       "      <td>0.000226</td>\n",
       "      <td>0.000315</td>\n",
       "      <td>0.000210</td>\n",
       "      <td>0.000239</td>\n",
       "      <td>0.000263</td>\n",
       "      <td>0.000262</td>\n",
       "      <td>0.000318</td>\n",
       "      <td>0.000353</td>\n",
       "      <td>0.000163</td>\n",
       "      <td>0.000243</td>\n",
       "    </tr>\n",
       "    <tr>\n",
       "      <th>NVDA</th>\n",
       "      <td>0.000295</td>\n",
       "      <td>0.000463</td>\n",
       "      <td>0.000328</td>\n",
       "      <td>0.000381</td>\n",
       "      <td>0.000367</td>\n",
       "      <td>0.000368</td>\n",
       "      <td>0.000353</td>\n",
       "      <td>0.001012</td>\n",
       "      <td>0.000179</td>\n",
       "      <td>0.000335</td>\n",
       "    </tr>\n",
       "    <tr>\n",
       "      <th>UNH</th>\n",
       "      <td>0.000141</td>\n",
       "      <td>0.000177</td>\n",
       "      <td>0.000163</td>\n",
       "      <td>0.000102</td>\n",
       "      <td>0.000149</td>\n",
       "      <td>0.000154</td>\n",
       "      <td>0.000163</td>\n",
       "      <td>0.000179</td>\n",
       "      <td>0.000213</td>\n",
       "      <td>0.000143</td>\n",
       "    </tr>\n",
       "    <tr>\n",
       "      <th>V</th>\n",
       "      <td>0.000205</td>\n",
       "      <td>0.000284</td>\n",
       "      <td>0.000202</td>\n",
       "      <td>0.000220</td>\n",
       "      <td>0.000230</td>\n",
       "      <td>0.000262</td>\n",
       "      <td>0.000243</td>\n",
       "      <td>0.000335</td>\n",
       "      <td>0.000143</td>\n",
       "      <td>0.000256</td>\n",
       "    </tr>\n",
       "  </tbody>\n",
       "</table>\n",
       "</div>"
      ],
      "text/plain": [
       "ticker      AAPL      AMZN        BA        FB      GOOG        MA      MSFT  \\\n",
       "ticker                                                                         \n",
       "AAPL    0.000330  0.000273  0.000190  0.000195  0.000220  0.000236  0.000226   \n",
       "AMZN    0.000273  0.000521  0.000252  0.000322  0.000305  0.000324  0.000315   \n",
       "BA      0.000190  0.000252  0.000392  0.000152  0.000207  0.000216  0.000210   \n",
       "FB      0.000195  0.000322  0.000152  0.000609  0.000266  0.000264  0.000239   \n",
       "GOOG    0.000220  0.000305  0.000207  0.000266  0.000318  0.000250  0.000263   \n",
       "MA      0.000236  0.000324  0.000216  0.000264  0.000250  0.000322  0.000262   \n",
       "MSFT    0.000226  0.000315  0.000210  0.000239  0.000263  0.000262  0.000318   \n",
       "NVDA    0.000295  0.000463  0.000328  0.000381  0.000367  0.000368  0.000353   \n",
       "UNH     0.000141  0.000177  0.000163  0.000102  0.000149  0.000154  0.000163   \n",
       "V       0.000205  0.000284  0.000202  0.000220  0.000230  0.000262  0.000243   \n",
       "\n",
       "ticker      NVDA       UNH         V  \n",
       "ticker                                \n",
       "AAPL    0.000295  0.000141  0.000205  \n",
       "AMZN    0.000463  0.000177  0.000284  \n",
       "BA      0.000328  0.000163  0.000202  \n",
       "FB      0.000381  0.000102  0.000220  \n",
       "GOOG    0.000367  0.000149  0.000230  \n",
       "MA      0.000368  0.000154  0.000262  \n",
       "MSFT    0.000353  0.000163  0.000243  \n",
       "NVDA    0.001012  0.000179  0.000335  \n",
       "UNH     0.000179  0.000213  0.000143  \n",
       "V       0.000335  0.000143  0.000256  "
      ]
     },
     "execution_count": 8,
     "metadata": {},
     "output_type": "execute_result"
    }
   ],
   "source": [
    "# using Numpy cov()\n",
    "sigma = logret.cov()\n",
    "sigma"
   ]
  },
  {
   "cell_type": "code",
   "execution_count": 10,
   "metadata": {},
   "outputs": [
    {
     "data": {
      "text/html": [
       "<div>\n",
       "<style scoped>\n",
       "    .dataframe tbody tr th:only-of-type {\n",
       "        vertical-align: middle;\n",
       "    }\n",
       "\n",
       "    .dataframe tbody tr th {\n",
       "        vertical-align: top;\n",
       "    }\n",
       "\n",
       "    .dataframe thead th {\n",
       "        text-align: right;\n",
       "    }\n",
       "</style>\n",
       "<table border=\"1\" class=\"dataframe\">\n",
       "  <thead>\n",
       "    <tr style=\"text-align: right;\">\n",
       "      <th></th>\n",
       "      <th>0</th>\n",
       "      <th>1</th>\n",
       "      <th>2</th>\n",
       "      <th>3</th>\n",
       "      <th>4</th>\n",
       "      <th>5</th>\n",
       "      <th>6</th>\n",
       "      <th>7</th>\n",
       "      <th>8</th>\n",
       "      <th>9</th>\n",
       "    </tr>\n",
       "  </thead>\n",
       "  <tbody>\n",
       "    <tr>\n",
       "      <th>0</th>\n",
       "      <td>0.000332</td>\n",
       "      <td>0.000262</td>\n",
       "      <td>0.000182</td>\n",
       "      <td>0.000187</td>\n",
       "      <td>0.000212</td>\n",
       "      <td>0.000227</td>\n",
       "      <td>0.000217</td>\n",
       "      <td>0.000283</td>\n",
       "      <td>0.000135</td>\n",
       "      <td>0.000196</td>\n",
       "    </tr>\n",
       "    <tr>\n",
       "      <th>1</th>\n",
       "      <td>0.000262</td>\n",
       "      <td>0.000516</td>\n",
       "      <td>0.000242</td>\n",
       "      <td>0.000309</td>\n",
       "      <td>0.000293</td>\n",
       "      <td>0.000311</td>\n",
       "      <td>0.000303</td>\n",
       "      <td>0.000445</td>\n",
       "      <td>0.000170</td>\n",
       "      <td>0.000272</td>\n",
       "    </tr>\n",
       "    <tr>\n",
       "      <th>2</th>\n",
       "      <td>0.000182</td>\n",
       "      <td>0.000242</td>\n",
       "      <td>0.000392</td>\n",
       "      <td>0.000146</td>\n",
       "      <td>0.000199</td>\n",
       "      <td>0.000207</td>\n",
       "      <td>0.000201</td>\n",
       "      <td>0.000315</td>\n",
       "      <td>0.000156</td>\n",
       "      <td>0.000194</td>\n",
       "    </tr>\n",
       "    <tr>\n",
       "      <th>3</th>\n",
       "      <td>0.000187</td>\n",
       "      <td>0.000309</td>\n",
       "      <td>0.000146</td>\n",
       "      <td>0.000600</td>\n",
       "      <td>0.000256</td>\n",
       "      <td>0.000253</td>\n",
       "      <td>0.000229</td>\n",
       "      <td>0.000365</td>\n",
       "      <td>0.000098</td>\n",
       "      <td>0.000211</td>\n",
       "    </tr>\n",
       "    <tr>\n",
       "      <th>4</th>\n",
       "      <td>0.000212</td>\n",
       "      <td>0.000293</td>\n",
       "      <td>0.000199</td>\n",
       "      <td>0.000256</td>\n",
       "      <td>0.000320</td>\n",
       "      <td>0.000240</td>\n",
       "      <td>0.000252</td>\n",
       "      <td>0.000353</td>\n",
       "      <td>0.000143</td>\n",
       "      <td>0.000221</td>\n",
       "    </tr>\n",
       "    <tr>\n",
       "      <th>5</th>\n",
       "      <td>0.000227</td>\n",
       "      <td>0.000311</td>\n",
       "      <td>0.000207</td>\n",
       "      <td>0.000253</td>\n",
       "      <td>0.000240</td>\n",
       "      <td>0.000324</td>\n",
       "      <td>0.000251</td>\n",
       "      <td>0.000353</td>\n",
       "      <td>0.000148</td>\n",
       "      <td>0.000252</td>\n",
       "    </tr>\n",
       "    <tr>\n",
       "      <th>6</th>\n",
       "      <td>0.000217</td>\n",
       "      <td>0.000303</td>\n",
       "      <td>0.000201</td>\n",
       "      <td>0.000229</td>\n",
       "      <td>0.000252</td>\n",
       "      <td>0.000251</td>\n",
       "      <td>0.000321</td>\n",
       "      <td>0.000339</td>\n",
       "      <td>0.000157</td>\n",
       "      <td>0.000233</td>\n",
       "    </tr>\n",
       "    <tr>\n",
       "      <th>7</th>\n",
       "      <td>0.000283</td>\n",
       "      <td>0.000445</td>\n",
       "      <td>0.000315</td>\n",
       "      <td>0.000365</td>\n",
       "      <td>0.000353</td>\n",
       "      <td>0.000353</td>\n",
       "      <td>0.000339</td>\n",
       "      <td>0.000987</td>\n",
       "      <td>0.000171</td>\n",
       "      <td>0.000321</td>\n",
       "    </tr>\n",
       "    <tr>\n",
       "      <th>8</th>\n",
       "      <td>0.000135</td>\n",
       "      <td>0.000170</td>\n",
       "      <td>0.000156</td>\n",
       "      <td>0.000098</td>\n",
       "      <td>0.000143</td>\n",
       "      <td>0.000148</td>\n",
       "      <td>0.000157</td>\n",
       "      <td>0.000171</td>\n",
       "      <td>0.000220</td>\n",
       "      <td>0.000138</td>\n",
       "    </tr>\n",
       "    <tr>\n",
       "      <th>9</th>\n",
       "      <td>0.000196</td>\n",
       "      <td>0.000272</td>\n",
       "      <td>0.000194</td>\n",
       "      <td>0.000211</td>\n",
       "      <td>0.000221</td>\n",
       "      <td>0.000252</td>\n",
       "      <td>0.000233</td>\n",
       "      <td>0.000321</td>\n",
       "      <td>0.000138</td>\n",
       "      <td>0.000261</td>\n",
       "    </tr>\n",
       "  </tbody>\n",
       "</table>\n",
       "</div>"
      ],
      "text/plain": [
       "          0         1         2         3         4         5         6  \\\n",
       "0  0.000332  0.000262  0.000182  0.000187  0.000212  0.000227  0.000217   \n",
       "1  0.000262  0.000516  0.000242  0.000309  0.000293  0.000311  0.000303   \n",
       "2  0.000182  0.000242  0.000392  0.000146  0.000199  0.000207  0.000201   \n",
       "3  0.000187  0.000309  0.000146  0.000600  0.000256  0.000253  0.000229   \n",
       "4  0.000212  0.000293  0.000199  0.000256  0.000320  0.000240  0.000252   \n",
       "5  0.000227  0.000311  0.000207  0.000253  0.000240  0.000324  0.000251   \n",
       "6  0.000217  0.000303  0.000201  0.000229  0.000252  0.000251  0.000321   \n",
       "7  0.000283  0.000445  0.000315  0.000365  0.000353  0.000353  0.000339   \n",
       "8  0.000135  0.000170  0.000156  0.000098  0.000143  0.000148  0.000157   \n",
       "9  0.000196  0.000272  0.000194  0.000211  0.000221  0.000252  0.000233   \n",
       "\n",
       "          7         8         9  \n",
       "0  0.000283  0.000135  0.000196  \n",
       "1  0.000445  0.000170  0.000272  \n",
       "2  0.000315  0.000156  0.000194  \n",
       "3  0.000365  0.000098  0.000211  \n",
       "4  0.000353  0.000143  0.000221  \n",
       "5  0.000353  0.000148  0.000252  \n",
       "6  0.000339  0.000157  0.000233  \n",
       "7  0.000987  0.000171  0.000321  \n",
       "8  0.000171  0.000220  0.000138  \n",
       "9  0.000321  0.000138  0.000261  "
      ]
     },
     "execution_count": 10,
     "metadata": {},
     "output_type": "execute_result"
    }
   ],
   "source": [
    "#LW\n",
    "from sklearn.covariance import LedoitWolf\n",
    "X = logret.dropna()\n",
    "LW_cov = LedoitWolf().fit(X)\n",
    "sigma_LW = LW_cov.covariance_\n",
    "sigma_LW = pd.DataFrame(sigma_LW)\n",
    "sigma_LW\n",
    "#cov.location_"
   ]
  },
  {
   "cell_type": "code",
   "execution_count": 11,
   "metadata": {},
   "outputs": [
    {
     "data": {
      "text/html": [
       "<div>\n",
       "<style scoped>\n",
       "    .dataframe tbody tr th:only-of-type {\n",
       "        vertical-align: middle;\n",
       "    }\n",
       "\n",
       "    .dataframe tbody tr th {\n",
       "        vertical-align: top;\n",
       "    }\n",
       "\n",
       "    .dataframe thead th {\n",
       "        text-align: right;\n",
       "    }\n",
       "</style>\n",
       "<table border=\"1\" class=\"dataframe\">\n",
       "  <thead>\n",
       "    <tr style=\"text-align: right;\">\n",
       "      <th></th>\n",
       "      <th>0</th>\n",
       "      <th>1</th>\n",
       "      <th>2</th>\n",
       "      <th>3</th>\n",
       "      <th>4</th>\n",
       "      <th>5</th>\n",
       "      <th>6</th>\n",
       "      <th>7</th>\n",
       "      <th>8</th>\n",
       "      <th>9</th>\n",
       "    </tr>\n",
       "  </thead>\n",
       "  <tbody>\n",
       "    <tr>\n",
       "      <th>0</th>\n",
       "      <td>0.000330</td>\n",
       "      <td>0.000267</td>\n",
       "      <td>0.000186</td>\n",
       "      <td>0.000191</td>\n",
       "      <td>0.000216</td>\n",
       "      <td>0.000231</td>\n",
       "      <td>0.000221</td>\n",
       "      <td>0.000289</td>\n",
       "      <td>0.000138</td>\n",
       "      <td>0.000200</td>\n",
       "    </tr>\n",
       "    <tr>\n",
       "      <th>1</th>\n",
       "      <td>0.000267</td>\n",
       "      <td>0.000517</td>\n",
       "      <td>0.000247</td>\n",
       "      <td>0.000315</td>\n",
       "      <td>0.000299</td>\n",
       "      <td>0.000317</td>\n",
       "      <td>0.000309</td>\n",
       "      <td>0.000454</td>\n",
       "      <td>0.000174</td>\n",
       "      <td>0.000278</td>\n",
       "    </tr>\n",
       "    <tr>\n",
       "      <th>2</th>\n",
       "      <td>0.000186</td>\n",
       "      <td>0.000247</td>\n",
       "      <td>0.000391</td>\n",
       "      <td>0.000149</td>\n",
       "      <td>0.000203</td>\n",
       "      <td>0.000212</td>\n",
       "      <td>0.000205</td>\n",
       "      <td>0.000321</td>\n",
       "      <td>0.000159</td>\n",
       "      <td>0.000198</td>\n",
       "    </tr>\n",
       "    <tr>\n",
       "      <th>3</th>\n",
       "      <td>0.000191</td>\n",
       "      <td>0.000315</td>\n",
       "      <td>0.000149</td>\n",
       "      <td>0.000604</td>\n",
       "      <td>0.000261</td>\n",
       "      <td>0.000258</td>\n",
       "      <td>0.000234</td>\n",
       "      <td>0.000373</td>\n",
       "      <td>0.000100</td>\n",
       "      <td>0.000215</td>\n",
       "    </tr>\n",
       "    <tr>\n",
       "      <th>4</th>\n",
       "      <td>0.000216</td>\n",
       "      <td>0.000299</td>\n",
       "      <td>0.000203</td>\n",
       "      <td>0.000261</td>\n",
       "      <td>0.000318</td>\n",
       "      <td>0.000245</td>\n",
       "      <td>0.000257</td>\n",
       "      <td>0.000360</td>\n",
       "      <td>0.000146</td>\n",
       "      <td>0.000225</td>\n",
       "    </tr>\n",
       "    <tr>\n",
       "      <th>5</th>\n",
       "      <td>0.000231</td>\n",
       "      <td>0.000317</td>\n",
       "      <td>0.000212</td>\n",
       "      <td>0.000258</td>\n",
       "      <td>0.000245</td>\n",
       "      <td>0.000322</td>\n",
       "      <td>0.000256</td>\n",
       "      <td>0.000360</td>\n",
       "      <td>0.000151</td>\n",
       "      <td>0.000257</td>\n",
       "    </tr>\n",
       "    <tr>\n",
       "      <th>6</th>\n",
       "      <td>0.000221</td>\n",
       "      <td>0.000309</td>\n",
       "      <td>0.000205</td>\n",
       "      <td>0.000234</td>\n",
       "      <td>0.000257</td>\n",
       "      <td>0.000256</td>\n",
       "      <td>0.000319</td>\n",
       "      <td>0.000346</td>\n",
       "      <td>0.000160</td>\n",
       "      <td>0.000238</td>\n",
       "    </tr>\n",
       "    <tr>\n",
       "      <th>7</th>\n",
       "      <td>0.000289</td>\n",
       "      <td>0.000454</td>\n",
       "      <td>0.000321</td>\n",
       "      <td>0.000373</td>\n",
       "      <td>0.000360</td>\n",
       "      <td>0.000360</td>\n",
       "      <td>0.000346</td>\n",
       "      <td>0.000999</td>\n",
       "      <td>0.000175</td>\n",
       "      <td>0.000328</td>\n",
       "    </tr>\n",
       "    <tr>\n",
       "      <th>8</th>\n",
       "      <td>0.000138</td>\n",
       "      <td>0.000174</td>\n",
       "      <td>0.000159</td>\n",
       "      <td>0.000100</td>\n",
       "      <td>0.000146</td>\n",
       "      <td>0.000151</td>\n",
       "      <td>0.000160</td>\n",
       "      <td>0.000175</td>\n",
       "      <td>0.000216</td>\n",
       "      <td>0.000140</td>\n",
       "    </tr>\n",
       "    <tr>\n",
       "      <th>9</th>\n",
       "      <td>0.000200</td>\n",
       "      <td>0.000278</td>\n",
       "      <td>0.000198</td>\n",
       "      <td>0.000215</td>\n",
       "      <td>0.000225</td>\n",
       "      <td>0.000257</td>\n",
       "      <td>0.000238</td>\n",
       "      <td>0.000328</td>\n",
       "      <td>0.000140</td>\n",
       "      <td>0.000258</td>\n",
       "    </tr>\n",
       "  </tbody>\n",
       "</table>\n",
       "</div>"
      ],
      "text/plain": [
       "          0         1         2         3         4         5         6  \\\n",
       "0  0.000330  0.000267  0.000186  0.000191  0.000216  0.000231  0.000221   \n",
       "1  0.000267  0.000517  0.000247  0.000315  0.000299  0.000317  0.000309   \n",
       "2  0.000186  0.000247  0.000391  0.000149  0.000203  0.000212  0.000205   \n",
       "3  0.000191  0.000315  0.000149  0.000604  0.000261  0.000258  0.000234   \n",
       "4  0.000216  0.000299  0.000203  0.000261  0.000318  0.000245  0.000257   \n",
       "5  0.000231  0.000317  0.000212  0.000258  0.000245  0.000322  0.000256   \n",
       "6  0.000221  0.000309  0.000205  0.000234  0.000257  0.000256  0.000319   \n",
       "7  0.000289  0.000454  0.000321  0.000373  0.000360  0.000360  0.000346   \n",
       "8  0.000138  0.000174  0.000159  0.000100  0.000146  0.000151  0.000160   \n",
       "9  0.000200  0.000278  0.000198  0.000215  0.000225  0.000257  0.000238   \n",
       "\n",
       "          7         8         9  \n",
       "0  0.000289  0.000138  0.000200  \n",
       "1  0.000454  0.000174  0.000278  \n",
       "2  0.000321  0.000159  0.000198  \n",
       "3  0.000373  0.000100  0.000215  \n",
       "4  0.000360  0.000146  0.000225  \n",
       "5  0.000360  0.000151  0.000257  \n",
       "6  0.000346  0.000160  0.000238  \n",
       "7  0.000999  0.000175  0.000328  \n",
       "8  0.000175  0.000216  0.000140  \n",
       "9  0.000328  0.000140  0.000258  "
      ]
     },
     "execution_count": 11,
     "metadata": {},
     "output_type": "execute_result"
    }
   ],
   "source": [
    "#OAS\n",
    "from sklearn.covariance import OAS\n",
    "X = logret.dropna()\n",
    "OAS_cov = OAS().fit(X)\n",
    "sigma_OAS = OAS_cov.covariance_\n",
    "sigma_OAS = pd.DataFrame(sigma_OAS)\n",
    "sigma_OAS\n",
    "#cov.location_"
   ]
  },
  {
   "cell_type": "markdown",
   "metadata": {},
   "source": [
    "### Compare Estimated Sigmas"
   ]
  },
  {
   "cell_type": "code",
   "execution_count": null,
   "metadata": {},
   "outputs": [],
   "source": [
    "\n"
   ]
  },
  {
   "cell_type": "markdown",
   "metadata": {},
   "source": [
    "## Portfolio optimization: "
   ]
  },
  {
   "cell_type": "code",
   "execution_count": 44,
   "metadata": {},
   "outputs": [
    {
     "data": {
      "text/plain": [
       "array([ 0.16796193, -0.15430703,  0.09410548,  0.1307955 ,  0.08947639,\n",
       "       -0.08585629, -0.02621356, -0.08894132,  0.50156112,  0.37141776])"
      ]
     },
     "execution_count": 44,
     "metadata": {},
     "output_type": "execute_result"
    }
   ],
   "source": [
    "import cvxpy as cvx\n",
    "from cvxpy import *\n",
    "s, _ = sigma_LW.shape\n",
    "#gamma = cvx.Parameter(nonneg=True)\n",
    "w1 = cvx.Variable(s)\n",
    "risk = cvx.quad_form(w1, sigma_LW.values)\n",
    "prob1 = cvx.Problem(cvx.Minimize(risk), \n",
    "               [cvx.sum(w1) == 1])\n",
    "prob1.solve()\n",
    "w1.value"
   ]
  },
  {
   "cell_type": "code",
   "execution_count": 50,
   "metadata": {},
   "outputs": [
    {
     "data": {
      "text/plain": [
       "1.0"
      ]
     },
     "execution_count": 50,
     "metadata": {},
     "output_type": "execute_result"
    }
   ],
   "source": [
    "w1.value.sum()"
   ]
  },
  {
   "cell_type": "code",
   "execution_count": 51,
   "metadata": {},
   "outputs": [
    {
     "data": {
      "text/plain": [
       "0.0001738211740639236"
      ]
     },
     "execution_count": 51,
     "metadata": {},
     "output_type": "execute_result"
    }
   ],
   "source": [
    "np.dot(mu.values,w1.value)"
   ]
  },
  {
   "cell_type": "code",
   "execution_count": 45,
   "metadata": {},
   "outputs": [
    {
     "data": {
      "text/plain": [
       "array([-3.06090201e-23,  1.41737517e-01,  2.46213520e-23,  2.02708897e-22,\n",
       "       -1.32348067e-22,  8.58262483e-01, -2.92759666e-23,  1.84773460e-25,\n",
       "       -6.79938740e-24, -2.43924134e-23])"
      ]
     },
     "execution_count": 45,
     "metadata": {},
     "output_type": "execute_result"
    }
   ],
   "source": [
    "w2 = cvx.Variable(s)\n",
    "risk = cvx.quad_form(w2, sigma_LW.values)\n",
    "ret = mu.values*w2\n",
    "prob2 = cvx.Problem(cvx.Maximize(ret - risk), \n",
    "               [cvx.sum(w2) == 1, \n",
    "                w2 >= 0])\n",
    "prob2.solve()\n",
    "w2.value"
   ]
  },
  {
   "cell_type": "code",
   "execution_count": 48,
   "metadata": {},
   "outputs": [
    {
     "data": {
      "text/plain": [
       "1.0"
      ]
     },
     "execution_count": 48,
     "metadata": {},
     "output_type": "execute_result"
    }
   ],
   "source": [
    "w2.value.sum()"
   ]
  },
  {
   "cell_type": "code",
   "execution_count": 49,
   "metadata": {},
   "outputs": [
    {
     "data": {
      "text/plain": [
       "0.0008432981060506996"
      ]
     },
     "execution_count": 49,
     "metadata": {},
     "output_type": "execute_result"
    }
   ],
   "source": [
    "np.dot(mu.values,w2.value)"
   ]
  },
  {
   "cell_type": "code",
   "execution_count": 55,
   "metadata": {},
   "outputs": [
    {
     "data": {
      "text/plain": [
       "array([-0.00686946, -0.02742798,  0.09519756,  0.00201091, -0.00147617,\n",
       "        0.15309175,  0.1085767 , -0.20615338,  0.48739951,  0.39565055])"
      ]
     },
     "execution_count": 55,
     "metadata": {},
     "output_type": "execute_result"
    }
   ],
   "source": [
    "w3 = cvx.Variable(s)\n",
    "risk = cvx.quad_form(w3, sigma_LW.values)\n",
    "prob3 = cvx.Problem(cvx.Minimize(risk), \n",
    "               [\n",
    "                   cvx.sum(w3) == 1,\n",
    "                   mu.values*w3 >= 0.001\n",
    "               ])\n",
    "prob3.solve()\n",
    "w3.value"
   ]
  },
  {
   "cell_type": "code",
   "execution_count": 53,
   "metadata": {},
   "outputs": [
    {
     "data": {
      "text/plain": [
       "1.0000000000000036"
      ]
     },
     "execution_count": 53,
     "metadata": {},
     "output_type": "execute_result"
    }
   ],
   "source": [
    "w3.value.sum()"
   ]
  },
  {
   "cell_type": "code",
   "execution_count": 54,
   "metadata": {},
   "outputs": [
    {
     "data": {
      "text/plain": [
       "0.10000000000000003"
      ]
     },
     "execution_count": 54,
     "metadata": {},
     "output_type": "execute_result"
    }
   ],
   "source": [
    "np.dot(mu.values,w3.value)"
   ]
  },
  {
   "cell_type": "code",
   "execution_count": 87,
   "metadata": {},
   "outputs": [
    {
     "data": {
      "text/plain": [
       "array([0.00017382, 0.0008433 , 0.001     ])"
      ]
     },
     "execution_count": 87,
     "metadata": {},
     "output_type": "execute_result"
    }
   ],
   "source": [
    "#Portfolio Return, Portfolio Volitality\n",
    "RP1 = np.dot(mu.values,w1.value)\n",
    "w1_matrix = np.asmatrix(w1.value)\n",
    "sigma_LW_matrix = np.asmatrix(sigma_LW)\n",
    "SP1 = w1_matrix * sigma_LW_matrix *w1_matrix.T\n",
    "\n",
    "RP2 = np.dot(mu.values,w2.value)\n",
    "w2_matrix = np.asmatrix(w2.value)\n",
    "SP2 = w2_matrix * sigma_LW_matrix *w2_matrix.T\n",
    "\n",
    "RP3 = np.dot(mu.values,w3.value)\n",
    "w3_matrix = np.asmatrix(w3.value)\n",
    "SP3 = w3_matrix * sigma_LW_matrix *w3_matrix.T\n",
    "\n",
    "x = [RP1, RP2,RP3]\n",
    "y = [SP1,SP2,SP3]\n",
    "type(x)"
   ]
  },
  {
   "cell_type": "code",
   "execution_count": 92,
   "metadata": {},
   "outputs": [
    {
     "data": {
      "text/plain": [
       "(-0.0025, 0.0025)"
      ]
     },
     "execution_count": 92,
     "metadata": {},
     "output_type": "execute_result"
    },
    {
     "data": {
      "image/png": "[encoded data removed]",
      "text/plain": [
       "<Figure size 432x288 with 1 Axes>"
      ]
     },
     "metadata": {
      "needs_background": "light"
     },
     "output_type": "display_data"
    }
   ],
   "source": [
    "plt.scatter(np.array(x),np.array(y))\n",
    "plt.xlabel('Portfolio volatility')\n",
    "plt.ylabel('Portfolio return')\n",
    "plt.xlim((-0.002, 0.002))\n",
    "plt.ylim((-0.0025, 0.0025))"
   ]
  },
  {
   "cell_type": "code",
   "execution_count": 56,
   "metadata": {},
   "outputs": [
    {
     "data": {
      "image/png": "[encoded data removed]",
      "text/plain": [
       "<Figure size 432x288 with 1 Axes>"
      ]
     },
     "metadata": {
      "needs_background": "light"
     },
     "output_type": "display_data"
    }
   ],
   "source": [
    "p = plt.subplot(1,1,1)\n",
    "plt.plot(sigma_LW**2, mu, color='b')\n",
    "plt.plot(sigma_LW[pf.xa<0], pf.mu[pf.xa<0], color='r')\n",
    "plt.plot(pf.sig2[pf.xb<0], pf.mu[pf.xb<0], color='g')\n",
    "plt.scatter(mvp_sig2, mvp_mu, color='r', marker='+')\n",
    "p.set_xlabel('Portfolio volatility')\n",
    "p.set_ylabel('Portfolio return')\n",
    "plt.show(p)"
   ]
  },
  {
   "cell_type": "markdown",
   "metadata": {},
   "source": [
    "## Make data compatible with Zipline"
   ]
  },
  {
   "cell_type": "code",
   "execution_count": null,
   "metadata": {},
   "outputs": [],
   "source": [
    "# Store the different datasets\n",
    "data = {}\n",
    "\n",
    "# Iterate to load stock data from csv\n",
    "for stock in stocks:\n",
    "    data[stock] = pd.read_csv(\"{}.csv\".format(stock), index_col =0, parse_dates=['Date'])\n",
    "    data[stock] = data[stock][[\"open\",\"high\",\"low\",\"close\",\"adj close\",\"volume\"]]\n",
    "    data[stock] = data[stock].resample(\"1d\").mean()\n",
    "    data[stock].fillna(method='ffill', inplace = True)"
   ]
  },
  {
   "cell_type": "code",
   "execution_count": null,
   "metadata": {},
   "outputs": [],
   "source": [
    "# Convert data to panel\n",
    "StockPrice = pd.Panel(data)\n",
    "StockPrice.minor_axis = [\"open\",\"high\",\"low\",\"close\",\"adj close\",\"volume\"]\n",
    "StockPrice.major_axis = StockPrice.major_axis.tz_localize(pytz.utc)\n",
    "print(StockPrice)"
   ]
  },
  {
   "cell_type": "code",
   "execution_count": null,
   "metadata": {},
   "outputs": [],
   "source": [
    "plt.figure(figsize=(15,10))\n",
    "for stock in stocks:\n",
    "    data[stock]['adj close'].plot()\n",
    "plt.legend(stocks)\n",
    "plt.ylabel(\"Price in $\")\n",
    "data['GOOG']['close']"
   ]
  },
  {
   "cell_type": "code",
   "execution_count": null,
   "metadata": {},
   "outputs": [],
   "source": [
    "# I dont think this does anything\n",
    "%load_ext zipline"
   ]
  },
  {
   "cell_type": "markdown",
   "metadata": {},
   "source": [
    "## Set constraints "
   ]
  },
  {
   "cell_type": "code",
   "execution_count": null,
   "metadata": {},
   "outputs": [],
   "source": [
    "# Constraints for our algorithm\n",
    "initial_capital = 10000\n",
    "# Time frame for our algorithm\n",
    "startDate = datetime(2018,1,1,0,0,0,0,pytz.utc)\n",
    "endDate = datetime(2018,12,1,0,0,0,0,pytz.utc)\n",
    "# Trading calendar used for algorithm\n",
    "tradingCalendar = \"NYSE\"\n"
   ]
  },
  {
   "cell_type": "markdown",
   "metadata": {},
   "source": [
    "## Run Algorithm"
   ]
  },
  {
   "cell_type": "code",
   "execution_count": null,
   "metadata": {},
   "outputs": [],
   "source": [
    "# Define necessary two functions to run algorithm\n",
    "def initialize(context):\n",
    "    context.assest = symbol('GOOG')\n",
    "    \n",
    "def handle_data(context, data):\n",
    "    order(symbol('GOOG'),10)\n",
    "    record(GOOG = data.current(symbol('GOOG'),'price'))\n",
    "\n"
   ]
  },
  {
   "cell_type": "code",
   "execution_count": null,
   "metadata": {},
   "outputs": [],
   "source": [
    "perf = zipline.run_algorithm(start= startDate,\n",
    "                            end= endDate,\n",
    "                            initialize=initialize,\n",
    "                            data_frequency='daily',\n",
    "                            capital_base= initial_capital,\n",
    "                            handle_data=handle_data,\n",
    "                            data=StockPrice)\n",
    "perf.head(5)\n",
    "perf['benchmark_period_return'].agg(sum)"
   ]
  },
  {
   "cell_type": "code",
   "execution_count": null,
   "metadata": {},
   "outputs": [],
   "source": []
  }
 ],
 "metadata": {
  "kernelspec": {
   "display_name": "Python 3",
   "language": "python",
   "name": "python3"
  },
  "language_info": {
   "codemirror_mode": {
    "name": "ipython",
    "version": 3
   },
   "file_extension": ".py",
   "mimetype": "text/x-python",
   "name": "python",
   "nbconvert_exporter": "python",
   "pygments_lexer": "ipython3",
   "version": "3.6.7"
  }
 },
 "nbformat": 4,
 "nbformat_minor": 2
}
