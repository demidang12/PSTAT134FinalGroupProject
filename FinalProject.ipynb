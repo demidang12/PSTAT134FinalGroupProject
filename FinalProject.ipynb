{
 "cells": [
  {
   "cell_type": "markdown",
   "metadata": {},
   "source": [
    "# Load the necessary modules\n",
    "\n",
    "Zipline only works with an older version of pandas. It is necessary to downgrade to the version of pandas that is 0.22.0"
   ]
  },
  {
   "cell_type": "code",
   "execution_count": 1,
   "metadata": {},
   "outputs": [],
   "source": [
    "import pytz\n",
    "import pandas as pd\n",
    "import matplotlib.pyplot as plt\n",
    "import zipline\n",
    "from zipline.api import order, record, symbol, set_benchmark\n",
    "from collections import OrderedDict\n",
    "from datetime import datetime"
   ]
  },
  {
   "cell_type": "markdown",
   "metadata": {},
   "source": [
    "# Load and Preprocess the data with zipline"
   ]
  },
  {
   "cell_type": "code",
   "execution_count": 2,
   "metadata": {},
   "outputs": [
    {
     "name": "stdout",
     "output_type": "stream",
     "text": [
      "             Open   High    Low  Close      Volume\n",
      "Date                                              \n",
      "2013-01-02  38.54  38.99  38.48  38.85  15826400.0\n",
      "2013-01-03  39.28  39.52  38.71  38.88  14937200.0\n",
      "2013-01-04  38.90  39.30  38.69  39.19  10376000.0\n",
      "2013-01-05  38.90  39.30  38.69  39.19  10376000.0\n",
      "2013-01-06  38.90  39.30  38.69  39.19  10376000.0\n",
      "2013-01-07  39.24  39.69  39.20  39.47  10242400.0\n",
      "2013-01-08  39.41  39.84  39.25  39.84  11800400.0\n",
      "2013-01-09  40.35  40.64  39.93  40.45  17552800.0\n",
      "2013-01-10  40.51  40.69  39.82  40.13  16313600.0\n",
      "2013-01-11  39.94  40.31  39.88  40.29   9578000.0\n",
      "             Open   High    Low  Close      Volume\n",
      "Date                                              \n",
      "2013-01-02  38.54  38.99  38.48  38.85  15826400.0\n",
      "2013-01-03  39.28  39.52  38.71  38.88  14937200.0\n",
      "2013-01-04  38.90  39.30  38.69  39.19  10376000.0\n",
      "2013-01-05  38.90  39.30  38.69  39.19  10376000.0\n",
      "2013-01-06  38.90  39.30  38.69  39.19  10376000.0\n",
      "2013-01-07  39.24  39.69  39.20  39.47  10242400.0\n",
      "2013-01-08  39.41  39.84  39.25  39.84  11800400.0\n",
      "2013-01-09  40.35  40.64  39.93  40.45  17552800.0\n",
      "2013-01-10  40.51  40.69  39.82  40.13  16313600.0\n",
      "2013-01-11  39.94  40.31  39.88  40.29   9578000.0\n",
      "             Open   High    Low  Close      Volume\n",
      "Date                                              \n",
      "2013-01-02  38.54  38.99  38.48  38.85  15826400.0\n",
      "2013-01-03  39.28  39.52  38.71  38.88  14937200.0\n",
      "2013-01-04  38.90  39.30  38.69  39.19  10376000.0\n",
      "2013-01-05  38.90  39.30  38.69  39.19  10376000.0\n",
      "2013-01-06  38.90  39.30  38.69  39.19  10376000.0\n",
      "2013-01-07  39.24  39.69  39.20  39.47  10242400.0\n",
      "2013-01-08  39.41  39.84  39.25  39.84  11800400.0\n",
      "2013-01-09  40.35  40.64  39.93  40.45  17552800.0\n",
      "2013-01-10  40.51  40.69  39.82  40.13  16313600.0\n",
      "2013-01-11  39.94  40.31  39.88  40.29   9578000.0\n",
      "             Open   High    Low  Close      Volume\n",
      "Date                                              \n",
      "2013-01-02  38.54  38.99  38.48  38.85  15826400.0\n",
      "2013-01-03  39.28  39.52  38.71  38.88  14937200.0\n",
      "2013-01-04  38.90  39.30  38.69  39.19  10376000.0\n",
      "2013-01-05  38.90  39.30  38.69  39.19  10376000.0\n",
      "2013-01-06  38.90  39.30  38.69  39.19  10376000.0\n",
      "2013-01-07  39.24  39.69  39.20  39.47  10242400.0\n",
      "2013-01-08  39.41  39.84  39.25  39.84  11800400.0\n",
      "2013-01-09  40.35  40.64  39.93  40.45  17552800.0\n",
      "2013-01-10  40.51  40.69  39.82  40.13  16313600.0\n",
      "2013-01-11  39.94  40.31  39.88  40.29   9578000.0\n",
      "             Open   High    Low  Close      Volume\n",
      "Date                                              \n",
      "2013-01-02  38.54  38.99  38.48  38.85  15826400.0\n",
      "2013-01-03  39.28  39.52  38.71  38.88  14937200.0\n",
      "2013-01-04  38.90  39.30  38.69  39.19  10376000.0\n",
      "2013-01-05  38.90  39.30  38.69  39.19  10376000.0\n",
      "2013-01-06  38.90  39.30  38.69  39.19  10376000.0\n",
      "2013-01-07  39.24  39.69  39.20  39.47  10242400.0\n",
      "2013-01-08  39.41  39.84  39.25  39.84  11800400.0\n",
      "2013-01-09  40.35  40.64  39.93  40.45  17552800.0\n",
      "2013-01-10  40.51  40.69  39.82  40.13  16313600.0\n",
      "2013-01-11  39.94  40.31  39.88  40.29   9578000.0\n",
      "             Open   High    Low  Close      Volume\n",
      "Date                                              \n",
      "2013-01-02  38.54  38.99  38.48  38.85  15826400.0\n",
      "2013-01-03  39.28  39.52  38.71  38.88  14937200.0\n",
      "2013-01-04  38.90  39.30  38.69  39.19  10376000.0\n",
      "2013-01-05  38.90  39.30  38.69  39.19  10376000.0\n",
      "2013-01-06  38.90  39.30  38.69  39.19  10376000.0\n",
      "2013-01-07  39.24  39.69  39.20  39.47  10242400.0\n",
      "2013-01-08  39.41  39.84  39.25  39.84  11800400.0\n",
      "2013-01-09  40.35  40.64  39.93  40.45  17552800.0\n",
      "2013-01-10  40.51  40.69  39.82  40.13  16313600.0\n",
      "2013-01-11  39.94  40.31  39.88  40.29   9578000.0\n",
      "             Open   High    Low  Close      Volume\n",
      "Date                                              \n",
      "2013-01-02  38.54  38.99  38.48  38.85  15826400.0\n",
      "2013-01-03  39.28  39.52  38.71  38.88  14937200.0\n",
      "2013-01-04  38.90  39.30  38.69  39.19  10376000.0\n",
      "2013-01-05  38.90  39.30  38.69  39.19  10376000.0\n",
      "2013-01-06  38.90  39.30  38.69  39.19  10376000.0\n",
      "2013-01-07  39.24  39.69  39.20  39.47  10242400.0\n",
      "2013-01-08  39.41  39.84  39.25  39.84  11800400.0\n",
      "2013-01-09  40.35  40.64  39.93  40.45  17552800.0\n",
      "2013-01-10  40.51  40.69  39.82  40.13  16313600.0\n",
      "2013-01-11  39.94  40.31  39.88  40.29   9578000.0\n",
      "             Open   High    Low  Close      Volume\n",
      "Date                                              \n",
      "2013-01-02  38.54  38.99  38.48  38.85  15826400.0\n",
      "2013-01-03  39.28  39.52  38.71  38.88  14937200.0\n",
      "2013-01-04  38.90  39.30  38.69  39.19  10376000.0\n",
      "2013-01-05  38.90  39.30  38.69  39.19  10376000.0\n",
      "2013-01-06  38.90  39.30  38.69  39.19  10376000.0\n",
      "2013-01-07  39.24  39.69  39.20  39.47  10242400.0\n",
      "2013-01-08  39.41  39.84  39.25  39.84  11800400.0\n",
      "2013-01-09  40.35  40.64  39.93  40.45  17552800.0\n",
      "2013-01-10  40.51  40.69  39.82  40.13  16313600.0\n",
      "2013-01-11  39.94  40.31  39.88  40.29   9578000.0\n",
      "             Open   High    Low  Close      Volume\n",
      "Date                                              \n",
      "2013-01-02  38.54  38.99  38.48  38.85  15826400.0\n",
      "2013-01-03  39.28  39.52  38.71  38.88  14937200.0\n",
      "2013-01-04  38.90  39.30  38.69  39.19  10376000.0\n",
      "2013-01-05  38.90  39.30  38.69  39.19  10376000.0\n",
      "2013-01-06  38.90  39.30  38.69  39.19  10376000.0\n",
      "2013-01-07  39.24  39.69  39.20  39.47  10242400.0\n",
      "2013-01-08  39.41  39.84  39.25  39.84  11800400.0\n",
      "2013-01-09  40.35  40.64  39.93  40.45  17552800.0\n",
      "2013-01-10  40.51  40.69  39.82  40.13  16313600.0\n",
      "2013-01-11  39.94  40.31  39.88  40.29   9578000.0\n",
      "             Open   High    Low  Close      Volume\n",
      "Date                                              \n",
      "2013-01-02  38.54  38.99  38.48  38.85  15826400.0\n",
      "2013-01-03  39.28  39.52  38.71  38.88  14937200.0\n",
      "2013-01-04  38.90  39.30  38.69  39.19  10376000.0\n",
      "2013-01-05  38.90  39.30  38.69  39.19  10376000.0\n",
      "2013-01-06  38.90  39.30  38.69  39.19  10376000.0\n",
      "2013-01-07  39.24  39.69  39.20  39.47  10242400.0\n",
      "2013-01-08  39.41  39.84  39.25  39.84  11800400.0\n",
      "2013-01-09  40.35  40.64  39.93  40.45  17552800.0\n",
      "2013-01-10  40.51  40.69  39.82  40.13  16313600.0\n",
      "2013-01-11  39.94  40.31  39.88  40.29   9578000.0\n"
     ]
    }
   ],
   "source": [
    "# Store the different datasets\n",
    "data = OrderedDict()\n",
    "# Loads the data from the csv file\n",
    "stocks  = [\"AAPL\", \"AMZN\", \"BA\", \"FB\", \"GOOG\", \"MA\", \"MSFT\", \"NVDA\", \"UNH\", \"V\"]\n",
    "\n",
    "# Iterate to load stock data from csv\n",
    "for stock in stocks:\n",
    "    data[stock] = pd.read_csv(\"{}.csv\".format(stock), index_col =0, parse_dates=['Date'])\n",
    "    data[stock] = data[stock][[\"Open\",\"High\",\"Low\",\"Close\",\"Volume\"]]\n",
    "    data[stock] = data[stock].resample('1d').mean()\n",
    "    data[stock].fillna(method='ffill', inplace=True)\n",
    "    print(data[stock].head(10))"
   ]
  },
  {
   "cell_type": "code",
   "execution_count": 3,
   "metadata": {},
   "outputs": [
    {
     "name": "stdout",
     "output_type": "stream",
     "text": [
      "<class 'pandas.core.panel.Panel'>\n",
      "Dimensions: 10 (items) x 2187 (major_axis) x 5 (minor_axis)\n",
      "Items axis: AAPL to V\n",
      "Major_axis axis: 2013-01-02 00:00:00+00:00 to 2018-12-28 00:00:00+00:00\n",
      "Minor_axis axis: Open to Volume\n"
     ]
    }
   ],
   "source": [
    "# Convert data to panel\n",
    "StockPrice = pd.Panel(data)\n",
    "StockPrice.minor_axis = [\"Open\",\"High\",\"Low\",\"Close\",\"Volume\"]\n",
    "StockPrice.major_axis = StockPrice.major_axis.tz_localize(pytz.utc)\n",
    "print(StockPrice)"
   ]
  },
  {
   "cell_type": "code",
   "execution_count": 4,
   "metadata": {},
   "outputs": [],
   "source": [
    "%load_ext zipline"
   ]
  },
  {
   "cell_type": "code",
   "execution_count": 6,
   "metadata": {},
   "outputs": [],
   "source": [
    "# Define necessary two functions to run algorithm\n",
    "def initialize(context):\n",
    "    set_benchmark(symbol('AAPL'))\n",
    "    \n",
    "def handle_data(context, data):\n",
    "    order(symbol('AAPL'),10)\n",
    "    record(AAPL = data.current(symbol('AAPL'),'price'))\n",
    "    "
   ]
  },
  {
   "cell_type": "code",
   "execution_count": 7,
   "metadata": {},
   "outputs": [
    {
     "ename": "KeyError",
     "evalue": "\"None of [['close']] are in the [minor_axis]\"",
     "output_type": "error",
     "traceback": [
      "\u001b[0;31m---------------------------------------------------------------------------\u001b[0m",
      "\u001b[0;31mKeyError\u001b[0m                                  Traceback (most recent call last)",
      "\u001b[0;32m<ipython-input-7-c21cb561c47e>\u001b[0m in \u001b[0;36m<module>\u001b[0;34m\u001b[0m\n\u001b[1;32m      4\u001b[0m                             \u001b[0mcapital_base\u001b[0m\u001b[0;34m=\u001b[0m\u001b[0;36m10000\u001b[0m\u001b[0;34m,\u001b[0m\u001b[0;34m\u001b[0m\u001b[0;34m\u001b[0m\u001b[0m\n\u001b[1;32m      5\u001b[0m                             \u001b[0mhandle_data\u001b[0m\u001b[0;34m=\u001b[0m\u001b[0mhandle_data\u001b[0m\u001b[0;34m,\u001b[0m\u001b[0;34m\u001b[0m\u001b[0;34m\u001b[0m\u001b[0m\n\u001b[0;32m----> 6\u001b[0;31m                             data=StockPrice)\n\u001b[0m",
      "\u001b[0;32m/opt/conda/lib/python3.6/site-packages/zipline/utils/run_algo.py\u001b[0m in \u001b[0;36mrun_algorithm\u001b[0;34m(start, end, initialize, capital_base, handle_data, before_trading_start, analyze, data_frequency, data, bundle, bundle_timestamp, trading_calendar, metrics_set, default_extension, extensions, strict_extensions, environ, blotter)\u001b[0m\n\u001b[1;32m    428\u001b[0m         \u001b[0mlocal_namespace\u001b[0m\u001b[0;34m=\u001b[0m\u001b[0;32mFalse\u001b[0m\u001b[0;34m,\u001b[0m\u001b[0;34m\u001b[0m\u001b[0;34m\u001b[0m\u001b[0m\n\u001b[1;32m    429\u001b[0m         \u001b[0menviron\u001b[0m\u001b[0;34m=\u001b[0m\u001b[0menviron\u001b[0m\u001b[0;34m,\u001b[0m\u001b[0;34m\u001b[0m\u001b[0;34m\u001b[0m\u001b[0m\n\u001b[0;32m--> 430\u001b[0;31m         \u001b[0mblotter\u001b[0m\u001b[0;34m=\u001b[0m\u001b[0mblotter\u001b[0m\u001b[0;34m,\u001b[0m\u001b[0;34m\u001b[0m\u001b[0;34m\u001b[0m\u001b[0m\n\u001b[0m\u001b[1;32m    431\u001b[0m     )\n",
      "\u001b[0;32m/opt/conda/lib/python3.6/site-packages/zipline/utils/run_algo.py\u001b[0m in \u001b[0;36m_run\u001b[0;34m(handle_data, initialize, before_trading_start, analyze, algofile, algotext, defines, data_frequency, capital_base, data, bundle, bundle_timestamp, start, end, output, trading_calendar, print_algo, metrics_set, local_namespace, environ, blotter)\u001b[0m\n\u001b[1;32m    227\u001b[0m     \u001b[0;34m)\u001b[0m\u001b[0;34m.\u001b[0m\u001b[0mrun\u001b[0m\u001b[0;34m(\u001b[0m\u001b[0;34m\u001b[0m\u001b[0;34m\u001b[0m\u001b[0m\n\u001b[1;32m    228\u001b[0m         \u001b[0mdata\u001b[0m\u001b[0;34m,\u001b[0m\u001b[0;34m\u001b[0m\u001b[0;34m\u001b[0m\u001b[0m\n\u001b[0;32m--> 229\u001b[0;31m         \u001b[0moverwrite_sim_params\u001b[0m\u001b[0;34m=\u001b[0m\u001b[0;32mFalse\u001b[0m\u001b[0;34m,\u001b[0m\u001b[0;34m\u001b[0m\u001b[0;34m\u001b[0m\u001b[0m\n\u001b[0m\u001b[1;32m    230\u001b[0m     )\n\u001b[1;32m    231\u001b[0m \u001b[0;34m\u001b[0m\u001b[0m\n",
      "\u001b[0;32m/opt/conda/lib/python3.6/site-packages/zipline/algorithm.py\u001b[0m in \u001b[0;36mrun\u001b[0;34m(self, data, overwrite_sim_params)\u001b[0m\n\u001b[1;32m    754\u001b[0m         \u001b[0;32mtry\u001b[0m\u001b[0;34m:\u001b[0m\u001b[0;34m\u001b[0m\u001b[0;34m\u001b[0m\u001b[0m\n\u001b[1;32m    755\u001b[0m             \u001b[0mperfs\u001b[0m \u001b[0;34m=\u001b[0m \u001b[0;34m[\u001b[0m\u001b[0;34m]\u001b[0m\u001b[0;34m\u001b[0m\u001b[0;34m\u001b[0m\u001b[0m\n\u001b[0;32m--> 756\u001b[0;31m             \u001b[0;32mfor\u001b[0m \u001b[0mperf\u001b[0m \u001b[0;32min\u001b[0m \u001b[0mself\u001b[0m\u001b[0;34m.\u001b[0m\u001b[0mget_generator\u001b[0m\u001b[0;34m(\u001b[0m\u001b[0;34m)\u001b[0m\u001b[0;34m:\u001b[0m\u001b[0;34m\u001b[0m\u001b[0;34m\u001b[0m\u001b[0m\n\u001b[0m\u001b[1;32m    757\u001b[0m                 \u001b[0mperfs\u001b[0m\u001b[0;34m.\u001b[0m\u001b[0mappend\u001b[0m\u001b[0;34m(\u001b[0m\u001b[0mperf\u001b[0m\u001b[0;34m)\u001b[0m\u001b[0;34m\u001b[0m\u001b[0;34m\u001b[0m\u001b[0m\n\u001b[1;32m    758\u001b[0m \u001b[0;34m\u001b[0m\u001b[0m\n",
      "\u001b[0;32m/opt/conda/lib/python3.6/site-packages/zipline/algorithm.py\u001b[0m in \u001b[0;36mget_generator\u001b[0;34m(self)\u001b[0m\n\u001b[1;32m    627\u001b[0m         \u001b[0mmethod\u001b[0m \u001b[0mto\u001b[0m \u001b[0mget\u001b[0m \u001b[0ma\u001b[0m \u001b[0mstandard\u001b[0m \u001b[0mconstruction\u001b[0m \u001b[0mgenerator\u001b[0m\u001b[0;34m.\u001b[0m\u001b[0;34m\u001b[0m\u001b[0;34m\u001b[0m\u001b[0m\n\u001b[1;32m    628\u001b[0m         \"\"\"\n\u001b[0;32m--> 629\u001b[0;31m         \u001b[0;32mreturn\u001b[0m \u001b[0mself\u001b[0m\u001b[0;34m.\u001b[0m\u001b[0m_create_generator\u001b[0m\u001b[0;34m(\u001b[0m\u001b[0mself\u001b[0m\u001b[0;34m.\u001b[0m\u001b[0msim_params\u001b[0m\u001b[0;34m)\u001b[0m\u001b[0;34m\u001b[0m\u001b[0;34m\u001b[0m\u001b[0m\n\u001b[0m\u001b[1;32m    630\u001b[0m \u001b[0;34m\u001b[0m\u001b[0m\n\u001b[1;32m    631\u001b[0m     \u001b[0;32mdef\u001b[0m \u001b[0mrun\u001b[0m\u001b[0;34m(\u001b[0m\u001b[0mself\u001b[0m\u001b[0;34m,\u001b[0m \u001b[0mdata\u001b[0m\u001b[0;34m=\u001b[0m\u001b[0;32mNone\u001b[0m\u001b[0;34m,\u001b[0m \u001b[0moverwrite_sim_params\u001b[0m\u001b[0;34m=\u001b[0m\u001b[0;32mTrue\u001b[0m\u001b[0;34m)\u001b[0m\u001b[0;34m:\u001b[0m\u001b[0;34m\u001b[0m\u001b[0;34m\u001b[0m\u001b[0m\n",
      "\u001b[0;32m/opt/conda/lib/python3.6/site-packages/zipline/algorithm.py\u001b[0m in \u001b[0;36m_create_generator\u001b[0;34m(self, sim_params)\u001b[0m\n\u001b[1;32m    590\u001b[0m             \u001b[0mself\u001b[0m\u001b[0;34m.\u001b[0m\u001b[0minitialized\u001b[0m \u001b[0;34m=\u001b[0m \u001b[0;32mTrue\u001b[0m\u001b[0;34m\u001b[0m\u001b[0;34m\u001b[0m\u001b[0m\n\u001b[1;32m    591\u001b[0m \u001b[0;34m\u001b[0m\u001b[0m\n\u001b[0;32m--> 592\u001b[0;31m         \u001b[0mbenchmark_source\u001b[0m \u001b[0;34m=\u001b[0m \u001b[0mself\u001b[0m\u001b[0;34m.\u001b[0m\u001b[0m_create_benchmark_source\u001b[0m\u001b[0;34m(\u001b[0m\u001b[0;34m)\u001b[0m\u001b[0;34m\u001b[0m\u001b[0;34m\u001b[0m\u001b[0m\n\u001b[0m\u001b[1;32m    593\u001b[0m \u001b[0;34m\u001b[0m\u001b[0m\n\u001b[1;32m    594\u001b[0m         self.trading_client = AlgorithmSimulator(\n",
      "\u001b[0;32m/opt/conda/lib/python3.6/site-packages/zipline/algorithm.py\u001b[0m in \u001b[0;36m_create_benchmark_source\u001b[0;34m(self)\u001b[0m\n\u001b[1;32m    562\u001b[0m             \u001b[0mdata_portal\u001b[0m\u001b[0;34m=\u001b[0m\u001b[0mself\u001b[0m\u001b[0;34m.\u001b[0m\u001b[0mdata_portal\u001b[0m\u001b[0;34m,\u001b[0m\u001b[0;34m\u001b[0m\u001b[0;34m\u001b[0m\u001b[0m\n\u001b[1;32m    563\u001b[0m             \u001b[0memission_rate\u001b[0m\u001b[0;34m=\u001b[0m\u001b[0mself\u001b[0m\u001b[0;34m.\u001b[0m\u001b[0msim_params\u001b[0m\u001b[0;34m.\u001b[0m\u001b[0memission_rate\u001b[0m\u001b[0;34m,\u001b[0m\u001b[0;34m\u001b[0m\u001b[0;34m\u001b[0m\u001b[0m\n\u001b[0;32m--> 564\u001b[0;31m             \u001b[0mbenchmark_returns\u001b[0m\u001b[0;34m=\u001b[0m\u001b[0mbenchmark_returns\u001b[0m\u001b[0;34m,\u001b[0m\u001b[0;34m\u001b[0m\u001b[0;34m\u001b[0m\u001b[0m\n\u001b[0m\u001b[1;32m    565\u001b[0m         )\n\u001b[1;32m    566\u001b[0m \u001b[0;34m\u001b[0m\u001b[0m\n",
      "\u001b[0;32m/opt/conda/lib/python3.6/site-packages/zipline/sources/benchmark_source.py\u001b[0m in \u001b[0;36m__init__\u001b[0;34m(self, benchmark_asset, trading_calendar, sessions, data_portal, emission_rate, benchmark_returns)\u001b[0m\n\u001b[1;32m     45\u001b[0m                  \u001b[0mtrading_calendar\u001b[0m\u001b[0;34m,\u001b[0m\u001b[0;34m\u001b[0m\u001b[0;34m\u001b[0m\u001b[0m\n\u001b[1;32m     46\u001b[0m                  \u001b[0msessions\u001b[0m\u001b[0;34m,\u001b[0m\u001b[0;34m\u001b[0m\u001b[0;34m\u001b[0m\u001b[0m\n\u001b[0;32m---> 47\u001b[0;31m                  \u001b[0mdata_portal\u001b[0m\u001b[0;34m\u001b[0m\u001b[0;34m\u001b[0m\u001b[0m\n\u001b[0m\u001b[1;32m     48\u001b[0m               )\n\u001b[1;32m     49\u001b[0m         \u001b[0;32melif\u001b[0m \u001b[0mbenchmark_returns\u001b[0m \u001b[0;32mis\u001b[0m \u001b[0;32mnot\u001b[0m \u001b[0;32mNone\u001b[0m\u001b[0;34m:\u001b[0m\u001b[0;34m\u001b[0m\u001b[0;34m\u001b[0m\u001b[0m\n",
      "\u001b[0;32m/opt/conda/lib/python3.6/site-packages/zipline/sources/benchmark_source.py\u001b[0m in \u001b[0;36m_initialize_precalculated_series\u001b[0;34m(self, asset, trading_calendar, trading_days, data_portal)\u001b[0m\n\u001b[1;32m    284\u001b[0m                 \u001b[0mfield\u001b[0m\u001b[0;34m=\u001b[0m\u001b[0;34m\"price\"\u001b[0m\u001b[0;34m,\u001b[0m\u001b[0;34m\u001b[0m\u001b[0;34m\u001b[0m\u001b[0m\n\u001b[1;32m    285\u001b[0m                 \u001b[0mdata_frequency\u001b[0m\u001b[0;34m=\u001b[0m\u001b[0mself\u001b[0m\u001b[0;34m.\u001b[0m\u001b[0memission_rate\u001b[0m\u001b[0;34m,\u001b[0m\u001b[0;34m\u001b[0m\u001b[0;34m\u001b[0m\u001b[0m\n\u001b[0;32m--> 286\u001b[0;31m                 \u001b[0mffill\u001b[0m\u001b[0;34m=\u001b[0m\u001b[0;32mTrue\u001b[0m\u001b[0;34m\u001b[0m\u001b[0;34m\u001b[0m\u001b[0m\n\u001b[0m\u001b[1;32m    287\u001b[0m             )[asset]\n\u001b[1;32m    288\u001b[0m \u001b[0;34m\u001b[0m\u001b[0m\n",
      "\u001b[0;32m/opt/conda/lib/python3.6/site-packages/zipline/data/data_portal.py\u001b[0m in \u001b[0;36mget_history_window\u001b[0;34m(self, assets, end_dt, bar_count, frequency, field, data_frequency, ffill)\u001b[0m\n\u001b[1;32m    962\u001b[0m             \u001b[0;32mif\u001b[0m \u001b[0mfield\u001b[0m \u001b[0;34m==\u001b[0m \u001b[0;34m\"price\"\u001b[0m\u001b[0;34m:\u001b[0m\u001b[0;34m\u001b[0m\u001b[0;34m\u001b[0m\u001b[0m\n\u001b[1;32m    963\u001b[0m                 df = self._get_history_daily_window(assets, end_dt, bar_count,\n\u001b[0;32m--> 964\u001b[0;31m                                                     \"close\", data_frequency)\n\u001b[0m\u001b[1;32m    965\u001b[0m             \u001b[0;32melse\u001b[0m\u001b[0;34m:\u001b[0m\u001b[0;34m\u001b[0m\u001b[0;34m\u001b[0m\u001b[0m\n\u001b[1;32m    966\u001b[0m                 df = self._get_history_daily_window(assets, end_dt, bar_count,\n",
      "\u001b[0;32m/opt/conda/lib/python3.6/site-packages/zipline/data/data_portal.py\u001b[0m in \u001b[0;36m_get_history_daily_window\u001b[0;34m(self, assets, end_dt, bar_count, field_to_use, data_frequency)\u001b[0m\n\u001b[1;32m    804\u001b[0m \u001b[0;34m\u001b[0m\u001b[0m\n\u001b[1;32m    805\u001b[0m         data = self._get_history_daily_window_data(\n\u001b[0;32m--> 806\u001b[0;31m             \u001b[0massets\u001b[0m\u001b[0;34m,\u001b[0m \u001b[0mdays_for_window\u001b[0m\u001b[0;34m,\u001b[0m \u001b[0mend_dt\u001b[0m\u001b[0;34m,\u001b[0m \u001b[0mfield_to_use\u001b[0m\u001b[0;34m,\u001b[0m \u001b[0mdata_frequency\u001b[0m\u001b[0;34m\u001b[0m\u001b[0;34m\u001b[0m\u001b[0m\n\u001b[0m\u001b[1;32m    807\u001b[0m         )\n\u001b[1;32m    808\u001b[0m         return pd.DataFrame(\n",
      "\u001b[0;32m/opt/conda/lib/python3.6/site-packages/zipline/data/data_portal.py\u001b[0m in \u001b[0;36m_get_history_daily_window_data\u001b[0;34m(self, assets, days_for_window, end_dt, field_to_use, data_frequency)\u001b[0m\n\u001b[1;32m    827\u001b[0m                 \u001b[0mfield_to_use\u001b[0m\u001b[0;34m,\u001b[0m\u001b[0;34m\u001b[0m\u001b[0;34m\u001b[0m\u001b[0m\n\u001b[1;32m    828\u001b[0m                 \u001b[0mdays_for_window\u001b[0m\u001b[0;34m,\u001b[0m\u001b[0;34m\u001b[0m\u001b[0;34m\u001b[0m\u001b[0m\n\u001b[0;32m--> 829\u001b[0;31m                 \u001b[0mextra_slot\u001b[0m\u001b[0;34m=\u001b[0m\u001b[0;32mFalse\u001b[0m\u001b[0;34m\u001b[0m\u001b[0;34m\u001b[0m\u001b[0m\n\u001b[0m\u001b[1;32m    830\u001b[0m             )\n\u001b[1;32m    831\u001b[0m         \u001b[0;32melse\u001b[0m\u001b[0;34m:\u001b[0m\u001b[0;34m\u001b[0m\u001b[0;34m\u001b[0m\u001b[0m\n",
      "\u001b[0;32m/opt/conda/lib/python3.6/site-packages/zipline/data/data_portal.py\u001b[0m in \u001b[0;36m_get_daily_window_data\u001b[0;34m(self, assets, field, days_in_window, extra_slot)\u001b[0m\n\u001b[1;32m   1115\u001b[0m                                                 \u001b[0mdays_in_window\u001b[0m\u001b[0;34m,\u001b[0m\u001b[0;34m\u001b[0m\u001b[0;34m\u001b[0m\u001b[0m\n\u001b[1;32m   1116\u001b[0m                                                 \u001b[0mfield\u001b[0m\u001b[0;34m,\u001b[0m\u001b[0;34m\u001b[0m\u001b[0;34m\u001b[0m\u001b[0m\n\u001b[0;32m-> 1117\u001b[0;31m                                                 extra_slot)\n\u001b[0m\u001b[1;32m   1118\u001b[0m             \u001b[0;32mif\u001b[0m \u001b[0mextra_slot\u001b[0m\u001b[0;34m:\u001b[0m\u001b[0;34m\u001b[0m\u001b[0;34m\u001b[0m\u001b[0m\n\u001b[1;32m   1119\u001b[0m                 \u001b[0mreturn_array\u001b[0m\u001b[0;34m[\u001b[0m\u001b[0;34m:\u001b[0m\u001b[0mlen\u001b[0m\u001b[0;34m(\u001b[0m\u001b[0mreturn_array\u001b[0m\u001b[0;34m)\u001b[0m \u001b[0;34m-\u001b[0m \u001b[0;36m1\u001b[0m\u001b[0;34m,\u001b[0m \u001b[0;34m:\u001b[0m\u001b[0;34m]\u001b[0m \u001b[0;34m=\u001b[0m \u001b[0mdata\u001b[0m\u001b[0;34m\u001b[0m\u001b[0;34m\u001b[0m\u001b[0m\n",
      "\u001b[0;32m/opt/conda/lib/python3.6/site-packages/zipline/data/history_loader.py\u001b[0m in \u001b[0;36mhistory\u001b[0;34m(self, assets, dts, field, is_perspective_after)\u001b[0m\n\u001b[1;32m    547\u001b[0m                                              \u001b[0mdts\u001b[0m\u001b[0;34m,\u001b[0m\u001b[0;34m\u001b[0m\u001b[0;34m\u001b[0m\u001b[0m\n\u001b[1;32m    548\u001b[0m                                              \u001b[0mfield\u001b[0m\u001b[0;34m,\u001b[0m\u001b[0;34m\u001b[0m\u001b[0;34m\u001b[0m\u001b[0m\n\u001b[0;32m--> 549\u001b[0;31m                                              is_perspective_after)\n\u001b[0m\u001b[1;32m    550\u001b[0m         \u001b[0mend_ix\u001b[0m \u001b[0;34m=\u001b[0m \u001b[0mself\u001b[0m\u001b[0;34m.\u001b[0m\u001b[0m_calendar\u001b[0m\u001b[0;34m.\u001b[0m\u001b[0msearchsorted\u001b[0m\u001b[0;34m(\u001b[0m\u001b[0mdts\u001b[0m\u001b[0;34m[\u001b[0m\u001b[0;34m-\u001b[0m\u001b[0;36m1\u001b[0m\u001b[0;34m]\u001b[0m\u001b[0;34m)\u001b[0m\u001b[0;34m\u001b[0m\u001b[0;34m\u001b[0m\u001b[0m\n\u001b[1;32m    551\u001b[0m \u001b[0;34m\u001b[0m\u001b[0m\n",
      "\u001b[0;32m/opt/conda/lib/python3.6/site-packages/zipline/data/history_loader.py\u001b[0m in \u001b[0;36m_ensure_sliding_windows\u001b[0;34m(self, assets, dts, field, is_perspective_after)\u001b[0m\n\u001b[1;32m    429\u001b[0m                 \u001b[0madj_dts\u001b[0m \u001b[0;34m=\u001b[0m \u001b[0mprefetch_dts\u001b[0m\u001b[0;34m\u001b[0m\u001b[0;34m\u001b[0m\u001b[0m\n\u001b[1;32m    430\u001b[0m             \u001b[0mprefetch_len\u001b[0m \u001b[0;34m=\u001b[0m \u001b[0mlen\u001b[0m\u001b[0;34m(\u001b[0m\u001b[0mprefetch_dts\u001b[0m\u001b[0;34m)\u001b[0m\u001b[0;34m\u001b[0m\u001b[0;34m\u001b[0m\u001b[0m\n\u001b[0;32m--> 431\u001b[0;31m             \u001b[0marray\u001b[0m \u001b[0;34m=\u001b[0m \u001b[0mself\u001b[0m\u001b[0;34m.\u001b[0m\u001b[0m_array\u001b[0m\u001b[0;34m(\u001b[0m\u001b[0mprefetch_dts\u001b[0m\u001b[0;34m,\u001b[0m \u001b[0mneeded_assets\u001b[0m\u001b[0;34m,\u001b[0m \u001b[0mfield\u001b[0m\u001b[0;34m)\u001b[0m\u001b[0;34m\u001b[0m\u001b[0;34m\u001b[0m\u001b[0m\n\u001b[0m\u001b[1;32m    432\u001b[0m \u001b[0;34m\u001b[0m\u001b[0m\n\u001b[1;32m    433\u001b[0m             \u001b[0;32mif\u001b[0m \u001b[0mfield\u001b[0m \u001b[0;34m==\u001b[0m \u001b[0;34m'sid'\u001b[0m\u001b[0;34m:\u001b[0m\u001b[0;34m\u001b[0m\u001b[0;34m\u001b[0m\u001b[0m\n",
      "\u001b[0;32m/opt/conda/lib/python3.6/site-packages/zipline/data/history_loader.py\u001b[0m in \u001b[0;36m_array\u001b[0;34m(self, dts, assets, field)\u001b[0m\n\u001b[1;32m    571\u001b[0m             \u001b[0mdts\u001b[0m\u001b[0;34m[\u001b[0m\u001b[0;36m0\u001b[0m\u001b[0;34m]\u001b[0m\u001b[0;34m,\u001b[0m\u001b[0;34m\u001b[0m\u001b[0;34m\u001b[0m\u001b[0m\n\u001b[1;32m    572\u001b[0m             \u001b[0mdts\u001b[0m\u001b[0;34m[\u001b[0m\u001b[0;34m-\u001b[0m\u001b[0;36m1\u001b[0m\u001b[0;34m]\u001b[0m\u001b[0;34m,\u001b[0m\u001b[0;34m\u001b[0m\u001b[0;34m\u001b[0m\u001b[0m\n\u001b[0;32m--> 573\u001b[0;31m             \u001b[0massets\u001b[0m\u001b[0;34m,\u001b[0m\u001b[0;34m\u001b[0m\u001b[0;34m\u001b[0m\u001b[0m\n\u001b[0m\u001b[1;32m    574\u001b[0m         )[0]\n\u001b[1;32m    575\u001b[0m \u001b[0;34m\u001b[0m\u001b[0m\n",
      "\u001b[0;32m/opt/conda/lib/python3.6/site-packages/zipline/data/dispatch_bar_reader.py\u001b[0m in \u001b[0;36mload_raw_arrays\u001b[0;34m(self, fields, start_dt, end_dt, sids)\u001b[0m\n\u001b[1;32m    118\u001b[0m                                                 \u001b[0mend_dt\u001b[0m\u001b[0;34m,\u001b[0m\u001b[0;34m\u001b[0m\u001b[0;34m\u001b[0m\u001b[0m\n\u001b[1;32m    119\u001b[0m                                                 sid_groups[t])\n\u001b[0;32m--> 120\u001b[0;31m             for t in asset_types if sid_groups[t]}\n\u001b[0m\u001b[1;32m    121\u001b[0m \u001b[0;34m\u001b[0m\u001b[0m\n\u001b[1;32m    122\u001b[0m         \u001b[0mresults\u001b[0m \u001b[0;34m=\u001b[0m \u001b[0;34m[\u001b[0m\u001b[0;34m]\u001b[0m\u001b[0;34m\u001b[0m\u001b[0;34m\u001b[0m\u001b[0m\n",
      "\u001b[0;32m/opt/conda/lib/python3.6/site-packages/zipline/data/dispatch_bar_reader.py\u001b[0m in \u001b[0;36m<dictcomp>\u001b[0;34m(.0)\u001b[0m\n\u001b[1;32m    118\u001b[0m                                                 \u001b[0mend_dt\u001b[0m\u001b[0;34m,\u001b[0m\u001b[0;34m\u001b[0m\u001b[0;34m\u001b[0m\u001b[0m\n\u001b[1;32m    119\u001b[0m                                                 sid_groups[t])\n\u001b[0;32m--> 120\u001b[0;31m             for t in asset_types if sid_groups[t]}\n\u001b[0m\u001b[1;32m    121\u001b[0m \u001b[0;34m\u001b[0m\u001b[0m\n\u001b[1;32m    122\u001b[0m         \u001b[0mresults\u001b[0m \u001b[0;34m=\u001b[0m \u001b[0;34m[\u001b[0m\u001b[0;34m]\u001b[0m\u001b[0;34m\u001b[0m\u001b[0;34m\u001b[0m\u001b[0m\n",
      "\u001b[0;32m/opt/conda/lib/python3.6/site-packages/zipline/data/us_equity_pricing.py\u001b[0m in \u001b[0;36mload_raw_arrays\u001b[0;34m(self, columns, start_dt, end_dt, assets)\u001b[0m\n\u001b[1;32m    819\u001b[0m             \u001b[0mlist\u001b[0m\u001b[0;34m(\u001b[0m\u001b[0massets\u001b[0m\u001b[0;34m)\u001b[0m\u001b[0;34m,\u001b[0m\u001b[0;34m\u001b[0m\u001b[0;34m\u001b[0m\u001b[0m\n\u001b[1;32m    820\u001b[0m             \u001b[0mstart_dt\u001b[0m\u001b[0;34m:\u001b[0m\u001b[0mend_dt\u001b[0m\u001b[0;34m,\u001b[0m\u001b[0;34m\u001b[0m\u001b[0;34m\u001b[0m\u001b[0m\n\u001b[0;32m--> 821\u001b[0;31m             \u001b[0mlist\u001b[0m\u001b[0;34m(\u001b[0m\u001b[0mcolumns\u001b[0m\u001b[0;34m)\u001b[0m\u001b[0;34m\u001b[0m\u001b[0;34m\u001b[0m\u001b[0m\n\u001b[0m\u001b[1;32m    822\u001b[0m         ].reindex(major_axis=cal[cal.slice_indexer(start_dt, end_dt)]).values.T\n\u001b[1;32m    823\u001b[0m \u001b[0;34m\u001b[0m\u001b[0m\n",
      "\u001b[0;32m/opt/conda/lib/python3.6/site-packages/pandas/core/indexing.py\u001b[0m in \u001b[0;36m__getitem__\u001b[0;34m(self, key)\u001b[0m\n\u001b[1;32m   1365\u001b[0m             \u001b[0;32mexcept\u001b[0m \u001b[0;34m(\u001b[0m\u001b[0mKeyError\u001b[0m\u001b[0;34m,\u001b[0m \u001b[0mIndexError\u001b[0m\u001b[0;34m)\u001b[0m\u001b[0;34m:\u001b[0m\u001b[0;34m\u001b[0m\u001b[0;34m\u001b[0m\u001b[0m\n\u001b[1;32m   1366\u001b[0m                 \u001b[0;32mpass\u001b[0m\u001b[0;34m\u001b[0m\u001b[0;34m\u001b[0m\u001b[0m\n\u001b[0;32m-> 1367\u001b[0;31m             \u001b[0;32mreturn\u001b[0m \u001b[0mself\u001b[0m\u001b[0;34m.\u001b[0m\u001b[0m_getitem_tuple\u001b[0m\u001b[0;34m(\u001b[0m\u001b[0mkey\u001b[0m\u001b[0;34m)\u001b[0m\u001b[0;34m\u001b[0m\u001b[0;34m\u001b[0m\u001b[0m\n\u001b[0m\u001b[1;32m   1368\u001b[0m         \u001b[0;32melse\u001b[0m\u001b[0;34m:\u001b[0m\u001b[0;34m\u001b[0m\u001b[0;34m\u001b[0m\u001b[0m\n\u001b[1;32m   1369\u001b[0m             \u001b[0;31m# we by definition only have the 0th axis\u001b[0m\u001b[0;34m\u001b[0m\u001b[0;34m\u001b[0m\u001b[0;34m\u001b[0m\u001b[0m\n",
      "\u001b[0;32m/opt/conda/lib/python3.6/site-packages/pandas/core/indexing.py\u001b[0m in \u001b[0;36m_getitem_tuple\u001b[0;34m(self, tup)\u001b[0m\n\u001b[1;32m    861\u001b[0m \u001b[0;34m\u001b[0m\u001b[0m\n\u001b[1;32m    862\u001b[0m         \u001b[0;31m# no multi-index, so validate all of the indexers\u001b[0m\u001b[0;34m\u001b[0m\u001b[0;34m\u001b[0m\u001b[0;34m\u001b[0m\u001b[0m\n\u001b[0;32m--> 863\u001b[0;31m         \u001b[0mself\u001b[0m\u001b[0;34m.\u001b[0m\u001b[0m_has_valid_tuple\u001b[0m\u001b[0;34m(\u001b[0m\u001b[0mtup\u001b[0m\u001b[0;34m)\u001b[0m\u001b[0;34m\u001b[0m\u001b[0;34m\u001b[0m\u001b[0m\n\u001b[0m\u001b[1;32m    864\u001b[0m \u001b[0;34m\u001b[0m\u001b[0m\n\u001b[1;32m    865\u001b[0m         \u001b[0;31m# ugly hack for GH #836\u001b[0m\u001b[0;34m\u001b[0m\u001b[0;34m\u001b[0m\u001b[0;34m\u001b[0m\u001b[0m\n",
      "\u001b[0;32m/opt/conda/lib/python3.6/site-packages/pandas/core/indexing.py\u001b[0m in \u001b[0;36m_has_valid_tuple\u001b[0;34m(self, key)\u001b[0m\n\u001b[1;32m    202\u001b[0m             \u001b[0;32mif\u001b[0m \u001b[0mi\u001b[0m \u001b[0;34m>=\u001b[0m \u001b[0mself\u001b[0m\u001b[0;34m.\u001b[0m\u001b[0mobj\u001b[0m\u001b[0;34m.\u001b[0m\u001b[0mndim\u001b[0m\u001b[0;34m:\u001b[0m\u001b[0;34m\u001b[0m\u001b[0;34m\u001b[0m\u001b[0m\n\u001b[1;32m    203\u001b[0m                 \u001b[0;32mraise\u001b[0m \u001b[0mIndexingError\u001b[0m\u001b[0;34m(\u001b[0m\u001b[0;34m'Too many indexers'\u001b[0m\u001b[0;34m)\u001b[0m\u001b[0;34m\u001b[0m\u001b[0;34m\u001b[0m\u001b[0m\n\u001b[0;32m--> 204\u001b[0;31m             \u001b[0;32mif\u001b[0m \u001b[0;32mnot\u001b[0m \u001b[0mself\u001b[0m\u001b[0;34m.\u001b[0m\u001b[0m_has_valid_type\u001b[0m\u001b[0;34m(\u001b[0m\u001b[0mk\u001b[0m\u001b[0;34m,\u001b[0m \u001b[0mi\u001b[0m\u001b[0;34m)\u001b[0m\u001b[0;34m:\u001b[0m\u001b[0;34m\u001b[0m\u001b[0;34m\u001b[0m\u001b[0m\n\u001b[0m\u001b[1;32m    205\u001b[0m                 raise ValueError(\"Location based indexing can only have \"\n\u001b[1;32m    206\u001b[0m                                  \u001b[0;34m\"[{types}] types\"\u001b[0m\u001b[0;34m\u001b[0m\u001b[0;34m\u001b[0m\u001b[0m\n",
      "\u001b[0;32m/opt/conda/lib/python3.6/site-packages/pandas/core/indexing.py\u001b[0m in \u001b[0;36m_has_valid_type\u001b[0;34m(self, key, axis)\u001b[0m\n\u001b[1;32m   1470\u001b[0m                         raise KeyError(\n\u001b[1;32m   1471\u001b[0m                             u\"None of [{key}] are in the [{axis}]\".format(\n\u001b[0;32m-> 1472\u001b[0;31m                                 key=key, axis=self.obj._get_axis_name(axis)))\n\u001b[0m\u001b[1;32m   1473\u001b[0m                     \u001b[0;32melse\u001b[0m\u001b[0;34m:\u001b[0m\u001b[0;34m\u001b[0m\u001b[0;34m\u001b[0m\u001b[0m\n\u001b[1;32m   1474\u001b[0m \u001b[0;34m\u001b[0m\u001b[0m\n",
      "\u001b[0;31mKeyError\u001b[0m: \"None of [['close']] are in the [minor_axis]\""
     ]
    }
   ],
   "source": [
    "perf = zipline.run_algorithm(start=datetime(2013,1,2,0,0,0,0,pytz.utc),\n",
    "                            end=datetime(2018,12,28,0,0,0,0,pytz.utc),\n",
    "                            initialize=initialize,\n",
    "                            capital_base=10000,\n",
    "                            handle_data=handle_data,\n",
    "                            data=StockPrice)"
   ]
  }
 ],
 "metadata": {
  "kernelspec": {
   "display_name": "Python 3",
   "language": "python",
   "name": "python3"
  },
  "language_info": {
   "codemirror_mode": {
    "name": "ipython",
    "version": 3
   },
   "file_extension": ".py",
   "mimetype": "text/x-python",
   "name": "python",
   "nbconvert_exporter": "python",
   "pygments_lexer": "ipython3",
   "version": "3.6.7"
  }
 },
 "nbformat": 4,
 "nbformat_minor": 2
}
