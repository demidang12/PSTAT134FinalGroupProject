{
 "cells": [
  {
   "cell_type": "markdown",
   "metadata": {},
   "source": [
    "## Install and load modules\n",
    "\n",
    "Zipline only works with an older version of pandas. It is necessary to downgrade to the version of pandas that is 0.22.0. We also need to download zipline."
   ]
  },
  {
   "cell_type": "code",
   "execution_count": 5,
   "metadata": {},
   "outputs": [
    {
     "name": "stdout",
     "output_type": "stream",
     "text": [
      "Collecting quantopian\n",
      "\u001b[31m  ERROR: Could not find a version that satisfies the requirement quantopian (from versions: none)\u001b[0m\n",
      "\u001b[31mERROR: No matching distribution found for quantopian\u001b[0m\n"
     ]
    }
   ],
   "source": [
    "!pip install quantopian"
   ]
  },
  {
   "cell_type": "code",
   "execution_count": null,
   "metadata": {},
   "outputs": [],
   "source": [
    "import pytz\n",
    "import pandas as pd\n",
    "import matplotlib.pyplot as plt\n",
    "import seaborn as sn\n",
    "import zipline\n",
    "import numpy as np\n",
    "from zipline.api import order, record, symbol\n",
    "from zipline.assets import Equity, Future\n",
    "from zipline import run_algorithm\n",
    "from collections import OrderedDict\n",
    "from datetime import datetime\n"
   ]
  },
  {
   "cell_type": "markdown",
   "metadata": {},
   "source": [
    "## Load and Prelimenary Analysis of Data"
   ]
  },
  {
   "cell_type": "code",
   "execution_count": null,
   "metadata": {},
   "outputs": [],
   "source": [
    "# Stock in our portfolio\n",
    "stocks  = [\"AAPL\", \"AMZN\", \"BA\", \"FB\", \"GOOG\", \"MA\", \"MSFT\", \"NVDA\", \"UNH\", \"V\"]\n",
    "\n",
    "# Calculate the weekly and yearly returns for stocks\n",
    "stockList = []\n",
    "# Creates a dataframe from CSV and saves to a list\n",
    "for stock in stocks:\n",
    "    df = pd.read_csv(\"{}.csv\".format(stock), index_col =0, parse_dates=['Date'])\n",
    "    stockList.append(df)   \n",
    "# Creates a dataframe from the list of dataframes\n",
    "stockdf = pd.concat(stockList, keys=stocks)\n",
    "stockdf = stockdf.reset_index()\n",
    "stockdf.rename(index=str, columns={\"level_0\":\"ticker\"}, inplace=True)\n",
    "# Impute missing values\n",
    "stockdf.head(5)"
   ]
  },
  {
   "cell_type": "code",
   "execution_count": null,
   "metadata": {},
   "outputs": [],
   "source": [
    "# To computer the covariance matrix , turn data into long format with pivot table\n",
    "datawide = pd.pivot_table(stockdf, values='adj close', index=['Date'], columns='ticker')\n",
    "returns = np.log(datawide).diff()\n",
    "returns.head(3)"
   ]
  },
  {
   "cell_type": "markdown",
   "metadata": {},
   "source": [
    "## Make data compatible with Zipline"
   ]
  },
  {
   "cell_type": "code",
   "execution_count": null,
   "metadata": {},
   "outputs": [],
   "source": [
    "# Store the different datasets\n",
    "data = {}\n",
    "\n",
    "# Iterate to load stock data from csv\n",
    "for stock in stocks:\n",
    "    data[stock] = pd.read_csv(\"{}.csv\".format(stock), index_col =0, parse_dates=['Date'])\n",
    "    data[stock] = data[stock][[\"open\",\"high\",\"low\",\"close\",\"adj close\",\"volume\"]]\n",
    "    data[stock] = data[stock].resample(\"1d\").mean()\n",
    "    data[stock].fillna(method='ffill', inplace = True)"
   ]
  },
  {
   "cell_type": "code",
   "execution_count": null,
   "metadata": {},
   "outputs": [],
   "source": [
    "# Convert data to panel\n",
    "StockPrice = pd.Panel(data)\n",
    "StockPrice.minor_axis = [\"open\",\"high\",\"low\",\"close\",\"adj close\",\"volume\"]\n",
    "StockPrice.major_axis = StockPrice.major_axis.tz_localize(pytz.utc)\n",
    "print(StockPrice)"
   ]
  },
  {
   "cell_type": "code",
   "execution_count": null,
   "metadata": {},
   "outputs": [],
   "source": [
    "plt.figure(figsize=(15,10))\n",
    "for stock in stocks:\n",
    "    data[stock]['adj close'].plot()\n",
    "plt.legend(stocks)\n",
    "plt.ylabel(\"Price in $\")\n",
    "data['GOOG']['close']"
   ]
  },
  {
   "cell_type": "code",
   "execution_count": null,
   "metadata": {},
   "outputs": [],
   "source": [
    "# I dont think this does anything\n",
    "%load_ext zipline"
   ]
  },
  {
   "cell_type": "markdown",
   "metadata": {},
   "source": [
    "## Set constraints "
   ]
  },
  {
   "cell_type": "code",
   "execution_count": null,
   "metadata": {},
   "outputs": [],
   "source": [
    "# Constraints for our algorithm\n",
    "initial_capital = 10000\n",
    "# Time frame for our algorithm\n",
    "startDate = datetime(2018,1,1,0,0,0,0,pytz.utc)\n",
    "endDate = datetime(2018,12,1,0,0,0,0,pytz.utc)\n",
    "# Trading calendar used for algorithm\n",
    "tradingCalendar = \"NYSE\"\n"
   ]
  },
  {
   "cell_type": "markdown",
   "metadata": {},
   "source": [
    "## Run Algorithm"
   ]
  },
  {
   "cell_type": "code",
   "execution_count": null,
   "metadata": {},
   "outputs": [],
   "source": [
    "# Define necessary two functions to run algorithm\n",
    "def initialize(context):\n",
    "    context.assest = symbol('GOOG')\n",
    "    \n",
    "def handle_data(context, data):\n",
    "    order(symbol('GOOG'),10)\n",
    "    record(GOOG = data.current(symbol('GOOG'),'price'))\n",
    "\n"
   ]
  },
  {
   "cell_type": "code",
   "execution_count": null,
   "metadata": {},
   "outputs": [],
   "source": [
    "perf = zipline.run_algorithm(start= startDate,\n",
    "                            end= endDate,\n",
    "                            initialize=initialize,\n",
    "                            data_frequency='daily',\n",
    "                            capital_base= initial_capital,\n",
    "                            handle_data=handle_data,\n",
    "                            data=StockPrice)\n",
    "perf.head(5)\n",
    "perf['benchmark_period_return'].agg(sum)"
   ]
  },
  {
   "cell_type": "code",
   "execution_count": null,
   "metadata": {},
   "outputs": [],
   "source": []
  }
 ],
 "metadata": {
  "kernelspec": {
   "display_name": "Python 3",
   "language": "python",
   "name": "python3"
  },
  "language_info": {
   "codemirror_mode": {
    "name": "ipython",
    "version": 3
   },
   "file_extension": ".py",
   "mimetype": "text/x-python",
   "name": "python",
   "nbconvert_exporter": "python",
   "pygments_lexer": "ipython3",
   "version": "3.6.7"
  }
 },
 "nbformat": 4,
 "nbformat_minor": 2
}
