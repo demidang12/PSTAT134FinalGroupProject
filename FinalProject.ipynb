{
 "cells": [
  {
   "cell_type": "markdown",
   "metadata": {},
   "source": [
    "## Load the necessary modules\n",
    "\n",
    "Zipline only works with an older version of pandas. It is necessary to downgrade to the version of pandas that is 0.22.0"
   ]
  },
  {
   "cell_type": "code",
   "execution_count": 1,
   "metadata": {},
   "outputs": [],
   "source": [
    "import pytz\n",
    "import pandas as pd\n",
    "import matplotlib.pyplot as plt\n",
    "import zipline\n",
    "from zipline.api import order, record, symbol\n",
    "from zipline.assets import Equity, Future\n",
    "from zipline import run_algorithm\n",
    "from collections import OrderedDict\n",
    "from datetime import datetime"
   ]
  },
  {
   "cell_type": "markdown",
   "metadata": {},
   "source": [
    "## Load and Prelimenary Analysis of Data"
   ]
  },
  {
   "cell_type": "code",
   "execution_count": null,
   "metadata": {},
   "outputs": [],
   "source": [
    "# Store the different datasets\n",
    "data = OrderedDict()\n",
    "# Loads the data from the csv file\n",
    "stocks  = [\"AAPL\", \"AMZN\", \"BA\", \"FB\", \"GOOG\", \"MA\", \"MSFT\", \"NVDA\", \"UNH\", \"V\"]\n",
    "\n",
    "# Iterate to load stock data from csv\n",
    "for stock in stocks:\n",
    "    data[stock] = pd.read_csv(\"{}.csv\".format(stock), index_col =0, parse_dates=['Date'])\n",
    "    data[stock] = data[stock][[\"open\",\"high\",\"low\",\"close\",\"volume\"]]\n",
    "    print(data[stock].head(10))"
   ]
  },
  {
   "cell_type": "markdown",
   "metadata": {},
   "source": [
    "*Price of the stock of the ten companies of interest from 2013 to 2018*"
   ]
  },
  {
   "cell_type": "code",
   "execution_count": null,
   "metadata": {},
   "outputs": [],
   "source": [
    "plt.figure(figsize=(15,10))\n",
    "for stock in stocks:\n",
    "    data[stock]['close'].plot()\n",
    "plt.legend(stocks)\n",
    "plt.ylabel(\"Price in $\")"
   ]
  },
  {
   "cell_type": "markdown",
   "metadata": {},
   "source": [
    "# Building our portfolio"
   ]
  },
  {
   "cell_type": "code",
   "execution_count": null,
   "metadata": {},
   "outputs": [],
   "source": [
    "# Calculate the weekly and yearly returns for stocks\n",
    "data"
   ]
  },
  {
   "cell_type": "markdown",
   "metadata": {},
   "source": [
    "## Make data compatible with Zipline"
   ]
  },
  {
   "cell_type": "code",
   "execution_count": null,
   "metadata": {},
   "outputs": [],
   "source": [
    "# Convert data to panel\n",
    "StockPrice = pd.Panel(data)\n",
    "StockPrice.minor_axis = [\"open\",\"high\",\"low\",\"close\",\"volume\"]\n",
    "StockPrice.major_axis = StockPrice.major_axis.tz_localize(pytz.utc)\n",
    "print(StockPrice)"
   ]
  },
  {
   "cell_type": "code",
   "execution_count": null,
   "metadata": {},
   "outputs": [],
   "source": [
    "# I dont think this does anything\n",
    "%load_ext zipline"
   ]
  },
  {
   "cell_type": "markdown",
   "metadata": {},
   "source": [
    "## Set constraints "
   ]
  },
  {
   "cell_type": "code",
   "execution_count": null,
   "metadata": {},
   "outputs": [],
   "source": [
    "# Constraints for our algorithm\n",
    "initial_capital = 10000\n",
    "# Time frame for our algorithm\n",
    "startDate = datetime(2013,1,2,0,0,0,0,pytz.utc)\n",
    "endDate = datetime(2018,12,28,0,0,0,0,pytz.utc)\n",
    "# Cost per trade will be 4.95 just because of my brokerage\n",
    "DEFAULT_MINIMUM_COST_PER_EQUITY_TRADE = 4.95\n",
    "DEFAULT_MINIMUM_COST_PER_FUTURE_TRADE = 4.95\n"
   ]
  },
  {
   "cell_type": "markdown",
   "metadata": {},
   "source": [
    "## Run Algorithm"
   ]
  },
  {
   "cell_type": "code",
   "execution_count": null,
   "metadata": {},
   "outputs": [],
   "source": [
    "# Define necessary two functions to run algorithm\n",
    "def initialize(context):\n",
    "    context.assest = symbols('GOOG')\n",
    "    \n",
    "def handle_data(context, data):\n",
    "    order(symbol('GOOG'),10)\n",
    "    record(GOOG = data.current(symbol('GOOG'),'price'))\n",
    "\n"
   ]
  },
  {
   "cell_type": "code",
   "execution_count": null,
   "metadata": {},
   "outputs": [],
   "source": [
    "perf = zipline.run_algorithm(start= startDate,\n",
    "                            end= endDate,\n",
    "                            initialize=initialize,\n",
    "                            data_frequency='daily',\n",
    "                            capital_base= initial_capital,\n",
    "                            handle_data=handle_data,\n",
    "                            data=StockPrice)\n",
    "perf.head(5)"
   ]
  }
 ],
 "metadata": {
  "kernelspec": {
   "display_name": "Python 3",
   "language": "python",
   "name": "python3"
  },
  "language_info": {
   "codemirror_mode": {
    "name": "ipython",
    "version": 3
   },
   "file_extension": ".py",
   "mimetype": "text/x-python",
   "name": "python",
   "nbconvert_exporter": "python",
   "pygments_lexer": "ipython3",
   "version": "3.6.7"
  }
 },
 "nbformat": 4,
 "nbformat_minor": 2
}
