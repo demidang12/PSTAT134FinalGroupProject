{
 "cells": [
  {
   "cell_type": "code",
   "execution_count": 8,
   "metadata": {},
   "outputs": [],
   "source": [
    "import seaborn as sn\n",
    "import pandas as pd\n",
    "import numpy as np"
   ]
  },
  {
   "cell_type": "code",
   "execution_count": 41,
   "metadata": {},
   "outputs": [],
   "source": [
    "# Load the data from CSV\n",
    "AAPLStock = pd.read_csv(\"/home/jovyan/PSTAT134FinalGroupProject/Datasets/AAPL.csv\")\n",
    "AMZNStock = pd.read_csv(\"/home/jovyan/PSTAT134FinalGroupProject/Datasets/AMZN.csv\")\n",
    "BAStock = pd.read_csv(\"/home/jovyan/PSTAT134FinalGroupProject/Datasets/BA.csv\")\n",
    "FBStock = pd.read_csv(\"/home/jovyan/PSTAT134FinalGroupProject/Datasets/FB.csv\")\n",
    "GOOGStock = pd.read_csv(\"/home/jovyan/PSTAT134FinalGroupProject/Datasets/GOOG.csv\")\n",
    "MAStock = pd.read_csv(\"/home/jovyan/PSTAT134FinalGroupProject/Datasets/MA.csv\")\n",
    "MSFT = pd.read_csv(\"/home/jovyan/PSTAT134FinalGroupProject/Datasets/MSFT.csv\")\n",
    "NVDAStock = pd.read_csv(\"/home/jovyan/PSTAT134FinalGroupProject/Datasets/NVDA.csv\")\n",
    "UNHStock = pd.read_csv(\"/home/jovyan/PSTAT134FinalGroupProject/Datasets/UNH.csv\")\n",
    "VStock =pd.read_csv(\"/home/jovyan/PSTAT134FinalGroupProject/Datasets/V.csv\")"
   ]
  }
 ],
 "metadata": {
  "kernelspec": {
   "display_name": "Python 3",
   "language": "python",
   "name": "python3"
  },
  "language_info": {
   "codemirror_mode": {
    "name": "ipython",
    "version": 3
   },
   "file_extension": ".py",
   "mimetype": "text/x-python",
   "name": "python",
   "nbconvert_exporter": "python",
   "pygments_lexer": "ipython3",
   "version": "3.6.7"
  }
 },
 "nbformat": 4,
 "nbformat_minor": 2
}
