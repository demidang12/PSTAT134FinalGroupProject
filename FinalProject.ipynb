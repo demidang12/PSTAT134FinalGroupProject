{
 "cells": [
  {
   "cell_type": "code",
   "execution_count": 2,
   "metadata": {},
   "outputs": [],
   "source": [
    "import seaborn as sn\n",
    "import pandas as pd\n",
    "import numpy as np"
   ]
  },
  {
   "cell_type": "code",
<<<<<<< HEAD
   "execution_count": 4,
=======
   "execution_count": 3,
>>>>>>> 24ca6a8d927ebdc3633d5771c8dab83d1de90f02
   "metadata": {},
   "outputs": [
    {
     "data": {
      "text/html": [
       "<div>\n",
       "<style scoped>\n",
       "    .dataframe tbody tr th:only-of-type {\n",
       "        vertical-align: middle;\n",
       "    }\n",
       "\n",
       "    .dataframe tbody tr th {\n",
       "        vertical-align: top;\n",
       "    }\n",
       "\n",
       "    .dataframe thead th {\n",
       "        text-align: right;\n",
       "    }\n",
       "</style>\n",
       "<table border=\"1\" class=\"dataframe\">\n",
       "  <thead>\n",
       "    <tr style=\"text-align: right;\">\n",
       "      <th></th>\n",
       "      <th>Date</th>\n",
       "      <th>Open</th>\n",
       "      <th>High</th>\n",
       "      <th>Low</th>\n",
       "      <th>Close</th>\n",
       "      <th>Adj Close</th>\n",
       "      <th>Volume</th>\n",
       "    </tr>\n",
       "  </thead>\n",
       "  <tbody>\n",
       "    <tr>\n",
       "      <th>0</th>\n",
       "      <td>2018-01-01</td>\n",
<<<<<<< HEAD
       "      <td>114.570000</td>\n",
       "      <td>119.000000</td>\n",
       "      <td>113.949997</td>\n",
       "      <td>118.860001</td>\n",
       "      <td>117.867554</td>\n",
       "      <td>29422800</td>\n",
=======
       "      <td>170.160004</td>\n",
       "      <td>175.369995</td>\n",
       "      <td>169.259995</td>\n",
       "      <td>175.000000</td>\n",
       "      <td>171.016678</td>\n",
       "      <td>101168400</td>\n",
>>>>>>> 24ca6a8d927ebdc3633d5771c8dab83d1de90f02
       "    </tr>\n",
       "    <tr>\n",
       "      <th>1</th>\n",
       "      <td>2018-01-08</td>\n",
<<<<<<< HEAD
       "      <td>118.610001</td>\n",
       "      <td>120.480003</td>\n",
       "      <td>117.459999</td>\n",
       "      <td>120.089996</td>\n",
       "      <td>119.087273</td>\n",
       "      <td>32281300</td>\n",
=======
       "      <td>174.350006</td>\n",
       "      <td>177.360001</td>\n",
       "      <td>173.000000</td>\n",
       "      <td>177.089996</td>\n",
       "      <td>173.059113</td>\n",
       "      <td>110005400</td>\n",
>>>>>>> 24ca6a8d927ebdc3633d5771c8dab83d1de90f02
       "    </tr>\n",
       "    <tr>\n",
       "      <th>2</th>\n",
       "      <td>2018-01-15</td>\n",
<<<<<<< HEAD
       "      <td>121.180000</td>\n",
       "      <td>123.650002</td>\n",
       "      <td>119.910004</td>\n",
       "      <td>122.699997</td>\n",
       "      <td>121.675484</td>\n",
       "      <td>33521400</td>\n",
=======
       "      <td>177.899994</td>\n",
       "      <td>180.100006</td>\n",
       "      <td>175.070007</td>\n",
       "      <td>178.460007</td>\n",
       "      <td>174.397949</td>\n",
       "      <td>127571200</td>\n",
>>>>>>> 24ca6a8d927ebdc3633d5771c8dab83d1de90f02
       "    </tr>\n",
       "    <tr>\n",
       "      <th>3</th>\n",
       "      <td>2018-01-22</td>\n",
<<<<<<< HEAD
       "      <td>122.870003</td>\n",
       "      <td>126.379997</td>\n",
       "      <td>122.400002</td>\n",
       "      <td>126.320000</td>\n",
       "      <td>125.265274</td>\n",
       "      <td>34234800</td>\n",
=======
       "      <td>177.300003</td>\n",
       "      <td>179.440002</td>\n",
       "      <td>170.059998</td>\n",
       "      <td>171.509995</td>\n",
       "      <td>167.606140</td>\n",
       "      <td>191574800</td>\n",
>>>>>>> 24ca6a8d927ebdc3633d5771c8dab83d1de90f02
       "    </tr>\n",
       "    <tr>\n",
       "      <th>4</th>\n",
       "      <td>2018-01-29</td>\n",
<<<<<<< HEAD
       "      <td>126.739998</td>\n",
       "      <td>126.879997</td>\n",
       "      <td>120.699997</td>\n",
       "      <td>120.910004</td>\n",
       "      <td>119.900436</td>\n",
       "      <td>46857900</td>\n",
=======
       "      <td>170.160004</td>\n",
       "      <td>170.160004</td>\n",
       "      <td>160.100006</td>\n",
       "      <td>160.500000</td>\n",
       "      <td>156.846741</td>\n",
       "      <td>262992100</td>\n",
>>>>>>> 24ca6a8d927ebdc3633d5771c8dab83d1de90f02
       "    </tr>\n",
       "  </tbody>\n",
       "</table>\n",
       "</div>"
      ],
      "text/plain": [
       "         Date        Open        High         Low       Close   Adj Close  \\\n",
<<<<<<< HEAD
       "0  2018-01-01  114.570000  119.000000  113.949997  118.860001  117.867554   \n",
       "1  2018-01-08  118.610001  120.480003  117.459999  120.089996  119.087273   \n",
       "2  2018-01-15  121.180000  123.650002  119.910004  122.699997  121.675484   \n",
       "3  2018-01-22  122.870003  126.379997  122.400002  126.320000  125.265274   \n",
       "4  2018-01-29  126.739998  126.879997  120.699997  120.910004  119.900436   \n",
       "\n",
       "     Volume  \n",
       "0  29422800  \n",
       "1  32281300  \n",
       "2  33521400  \n",
       "3  34234800  \n",
       "4  46857900  "
      ]
     },
     "execution_count": 4,
=======
       "0  2018-01-01  170.160004  175.369995  169.259995  175.000000  171.016678   \n",
       "1  2018-01-08  174.350006  177.360001  173.000000  177.089996  173.059113   \n",
       "2  2018-01-15  177.899994  180.100006  175.070007  178.460007  174.397949   \n",
       "3  2018-01-22  177.300003  179.440002  170.059998  171.509995  167.606140   \n",
       "4  2018-01-29  170.160004  170.160004  160.100006  160.500000  156.846741   \n",
       "\n",
       "      Volume  \n",
       "0  101168400  \n",
       "1  110005400  \n",
       "2  127571200  \n",
       "3  191574800  \n",
       "4  262992100  "
      ]
     },
     "execution_count": 3,
>>>>>>> 24ca6a8d927ebdc3633d5771c8dab83d1de90f02
     "metadata": {},
     "output_type": "execute_result"
    }
   ],
   "source": [
    "# Load the data from CSV\n",
    "AAPLStock = pd.read_csv(\"/home/jovyan/PSTAT134FinalGroupProject/Datasets/AAPL.csv\")\n",
    "AMZNStock = pd.read_csv(\"/home/jovyan/PSTAT134FinalGroupProject/Datasets/AMZN.csv\")\n",
    "BAStock = pd.read_csv(\"/home/jovyan/PSTAT134FinalGroupProject/Datasets/BA.csv\")\n",
    "FBStock = pd.read_csv(\"/home/jovyan/PSTAT134FinalGroupProject/Datasets/FB.csv\")\n",
    "GOOGStock = pd.read_csv(\"/home/jovyan/PSTAT134FinalGroupProject/Datasets/GOOG.csv\")\n",
    "MAStock = pd.read_csv(\"/home/jovyan/PSTAT134FinalGroupProject/Datasets/MA.csv\")\n",
    "MSFT = pd.read_csv(\"/home/jovyan/PSTAT134FinalGroupProject/Datasets/MSFT.csv\")\n",
    "NVDAStock = pd.read_csv(\"/home/jovyan/PSTAT134FinalGroupProject/Datasets/NVDA.csv\")\n",
    "UNHStock = pd.read_csv(\"/home/jovyan/PSTAT134FinalGroupProject/Datasets/UNH.csv\")\n",
    "VStock =pd.read_csv(\"/home/jovyan/PSTAT134FinalGroupProject/Datasets/V.csv\")\n",
    "\n",
<<<<<<< HEAD
    "AAPLStock.head(5)\n",
    "VStock.head(5)"
=======
    "AAPLStock.head(5)"
>>>>>>> 24ca6a8d927ebdc3633d5771c8dab83d1de90f02
   ]
  }
 ],
 "metadata": {
  "kernelspec": {
   "display_name": "Python 3",
   "language": "python",
   "name": "python3"
  },
  "language_info": {
   "codemirror_mode": {
    "name": "ipython",
    "version": 3
   },
   "file_extension": ".py",
   "mimetype": "text/x-python",
   "name": "python",
   "nbconvert_exporter": "python",
   "pygments_lexer": "ipython3",
   "version": "3.6.7"
  }
 },
 "nbformat": 4,
 "nbformat_minor": 2
}
