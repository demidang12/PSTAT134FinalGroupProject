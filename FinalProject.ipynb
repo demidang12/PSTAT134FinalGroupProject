{
 "cells": [
  {
   "cell_type": "code",
   "execution_count": 4,
   "metadata": {},
   "outputs": [],
   "source": [
    "import seaborn as sn\n",
    "import pandas as pd\n",
    "import numpy as np"
   ]
  },
  {
   "cell_type": "code",
   "execution_count": 6,
   "metadata": {},
   "outputs": [
    {
     "data": {
      "text/html": [
       "<div>\n",
       "<style scoped>\n",
       "    .dataframe tbody tr th:only-of-type {\n",
       "        vertical-align: middle;\n",
       "    }\n",
       "\n",
       "    .dataframe tbody tr th {\n",
       "        vertical-align: top;\n",
       "    }\n",
       "\n",
       "    .dataframe thead th {\n",
       "        text-align: right;\n",
       "    }\n",
       "</style>\n",
       "<table border=\"1\" class=\"dataframe\">\n",
       "  <thead>\n",
       "    <tr style=\"text-align: right;\">\n",
       "      <th></th>\n",
       "      <th>Date</th>\n",
       "      <th>Open</th>\n",
       "      <th>High</th>\n",
       "      <th>Low</th>\n",
       "      <th>Close</th>\n",
       "      <th>Adj Close</th>\n",
       "      <th>Volume</th>\n",
       "    </tr>\n",
       "  </thead>\n",
       "  <tbody>\n",
       "    <tr>\n",
       "      <th>0</th>\n",
       "      <td>2018-01-01</td>\n",
       "      <td>1048.339966</td>\n",
       "      <td>1104.250000</td>\n",
       "      <td>1045.229980</td>\n",
       "      <td>1102.229980</td>\n",
       "      <td>1102.229980</td>\n",
       "      <td>4951500</td>\n",
       "    </tr>\n",
       "    <tr>\n",
       "      <th>1</th>\n",
       "      <td>2018-01-08</td>\n",
       "      <td>1102.229980</td>\n",
       "      <td>1124.290039</td>\n",
       "      <td>1096.109985</td>\n",
       "      <td>1122.260010</td>\n",
       "      <td>1122.260010</td>\n",
       "      <td>5691700</td>\n",
       "    </tr>\n",
       "    <tr>\n",
       "      <th>2</th>\n",
       "      <td>2018-01-15</td>\n",
       "      <td>1132.510010</td>\n",
       "      <td>1139.910034</td>\n",
       "      <td>1117.010010</td>\n",
       "      <td>1137.510010</td>\n",
       "      <td>1137.510010</td>\n",
       "      <td>5750400</td>\n",
       "    </tr>\n",
       "    <tr>\n",
       "      <th>3</th>\n",
       "      <td>2018-01-22</td>\n",
       "      <td>1137.489990</td>\n",
       "      <td>1179.859985</td>\n",
       "      <td>1135.109985</td>\n",
       "      <td>1175.839966</td>\n",
       "      <td>1175.839966</td>\n",
       "      <td>7867000</td>\n",
       "    </tr>\n",
       "    <tr>\n",
       "      <th>4</th>\n",
       "      <td>2018-01-29</td>\n",
       "      <td>1176.479980</td>\n",
       "      <td>1186.890015</td>\n",
       "      <td>1107.277954</td>\n",
       "      <td>1111.900024</td>\n",
       "      <td>1111.900024</td>\n",
       "      <td>11743900</td>\n",
       "    </tr>\n",
       "  </tbody>\n",
       "</table>\n",
       "</div>"
      ],
      "text/plain": [
       "         Date         Open         High          Low        Close  \\\n",
       "0  2018-01-01  1048.339966  1104.250000  1045.229980  1102.229980   \n",
       "1  2018-01-08  1102.229980  1124.290039  1096.109985  1122.260010   \n",
       "2  2018-01-15  1132.510010  1139.910034  1117.010010  1137.510010   \n",
       "3  2018-01-22  1137.489990  1179.859985  1135.109985  1175.839966   \n",
       "4  2018-01-29  1176.479980  1186.890015  1107.277954  1111.900024   \n",
       "\n",
       "     Adj Close    Volume  \n",
       "0  1102.229980   4951500  \n",
       "1  1122.260010   5691700  \n",
       "2  1137.510010   5750400  \n",
       "3  1175.839966   7867000  \n",
       "4  1111.900024  11743900  "
      ]
     },
     "execution_count": 6,
     "metadata": {},
     "output_type": "execute_result"
    }
   ],
   "source": [
    "GOOGLE = pd.read_csv(\"GOOG.csv\")\n",
    "GOOGLE.head(5)"
   ]
  }
 ],
 "metadata": {
  "kernelspec": {
   "display_name": "Python 3",
   "language": "python",
   "name": "python3"
  },
  "language_info": {
   "codemirror_mode": {
    "name": "ipython",
    "version": 3
   },
   "file_extension": ".py",
   "mimetype": "text/x-python",
   "name": "python",
   "nbconvert_exporter": "python",
   "pygments_lexer": "ipython3",
   "version": "3.6.7"
  }
 },
 "nbformat": 4,
 "nbformat_minor": 2
}
