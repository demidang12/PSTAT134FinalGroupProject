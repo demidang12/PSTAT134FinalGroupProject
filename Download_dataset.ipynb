{
 "cells": [
  {
   "cell_type": "markdown",
   "metadata": {},
   "source": [
    "# Obtain Dataset from Yahoo Finance\n",
    "\n",
    "We will be getting our dataset from yahoo finance website. The module yfinance allows us to extract the stock data by python code into our notebooks. The module yfinance only works with pandas version 0.24.2 and newer. Therefore, before we run this notebook it is necessary to upgrade pandas to the newest version. "
   ]
  },
  {
   "cell_type": "code",
   "execution_count": 1,
   "metadata": {},
   "outputs": [],
   "source": [
    "# Modules needed to extract data \n",
    "import pandas as pd\n",
    "from pandas_datareader import data as pdr\n",
    "import yfinance as yf "
   ]
  },
  {
   "cell_type": "markdown",
   "metadata": {},
   "source": [
    "## Store stock data as CSV\n",
    "\n",
    "The modules of zipline and yfinance are not compatible since zipline uses an older version of pandas. To circumvent this problem, we are using this notebook to obtain the dataset. We have saved the dataset into a CSV file and then open the CSV file in the main notebook. The function for saving and reading CSV files is the same for both versions of pandas. For the project, we will be working the pandas version 0.22.0 since that is the version that is compatiable to zipline. "
   ]
  },
  {
   "cell_type": "code",
   "execution_count": 2,
   "metadata": {},
   "outputs": [
    {
     "name": "stdout",
     "output_type": "stream",
     "text": [
      "[*********************100%***********************]  1 of 1 downloaded\n",
      "[*********************100%***********************]  1 of 1 downloaded\n",
      "[*********************100%***********************]  1 of 1 downloaded\n",
      "[*********************100%***********************]  1 of 1 downloaded\n",
      "[*********************100%***********************]  1 of 1 downloaded\n",
      "[*********************100%***********************]  1 of 1 downloaded\n",
      "[*********************100%***********************]  1 of 1 downloaded\n",
      "[*********************100%***********************]  1 of 1 downloaded\n",
      "[*********************100%***********************]  1 of 1 downloaded\n",
      "[*********************100%***********************]  1 of 1 downloaded\n"
     ]
    }
   ],
   "source": [
    "# Allows us to Download data from yahoo finance with module\n",
    "yf.pdr_override()\n",
    "\n",
    "# Conditions for our stock data\n",
    "startDate = '2018-01-01'\n",
    "endDate = '2018-12-31'\n",
    "intervalCycle = '1mo'\n",
    "\n",
    "# Create a class to download \n",
    "class StockDownLoad:\n",
    "    def __init__(self, stock, start, end, interval):\n",
    "        self.stock = stock\n",
    "        self.start = start\n",
    "        self.end = end\n",
    "        self.interval = interval\n",
    "    \n",
    "    def GetData(self): # Function extract data from yahoo finance\n",
    "        return pdr.get_data_yahoo(self.stock, self.start, self.end, interval=self.interval)\n",
    "        \n",
    "AAPLStock = StockDownLoad('AAPL',startDate, endDate, intervalCycle).GetData()\n",
    "AMZNStock = StockDownLoad('AMZN',startDate, endDate, in tervalCycle).GetData()\n",
    "BAStock = StockDownLoad('BA',startDate, endDate, intervalCycle).GetData()\n",
    "FBStock = StockDownLoad('FB',startDate, endDate, intervalCycle).GetData()\n",
    "GOOGStock = StockDownLoad('GOOG',startDate, endDate, intervalCycle).GetData()\n",
    "MAStock = StockDownLoad('MA',startDate, endDate, intervalCycle).GetData()\n",
    "MSFTStock = StockDownLoad('MSFT',startDate, endDate, intervalCycle).GetData()\n",
    "NVDAStock = StockDownLoad('NVDA',startDate, endDate, intervalCycle).GetData()\n",
    "UNHStock = StockDownLoad('UNH',startDate, endDate, intervalCycle).GetData()\n",
    "VStock = StockDownLoad('V',startDate, endDate, intervalCycle).GetData()"
   ]
  },
  {
   "cell_type": "code",
   "execution_count": 3,
   "metadata": {},
   "outputs": [],
   "source": [
    "# Zipline only works with lowercase column names, convert column in our dataframe to lower\n",
    "# All the stock dataframes\n",
    "StockData = [AAPLStock, AMZNStock, BAStock, FBStock, GOOGStock, MAStock, MSFTStock,\n",
    "            NVDAStock, UNHStock, VStock]\n",
    "# Iteration to convert columns\n",
    "for stock in StockData:\n",
    "    stock.columns = map(str.lower, stock.columns)\n",
    "    stock.dropna(inplace=True)"
   ]
  },
  {
   "cell_type": "code",
   "execution_count": 4,
   "metadata": {},
   "outputs": [],
   "source": [
    "# Iteration to save dataframe as csv\n",
    "stocks  = [\"AAPL\", \"AMZN\", \"BA\", \"FB\", \"GOOG\", \"MA\", \"MSFT\", \"NVDA\", \"UNH\", \"V\"]\n",
    "\n",
    "for data, stock in zip(StockData,stocks):\n",
    "    data.to_csv('{}.csv'.format(stock))\n"
   ]
  }
 ],
 "metadata": {
  "kernelspec": {
   "display_name": "Python 3",
   "language": "python",
   "name": "python3"
  },
  "language_info": {
   "codemirror_mode": {
    "name": "ipython",
    "version": 3
   },
   "file_extension": ".py",
   "mimetype": "text/x-python",
   "name": "python",
   "nbconvert_exporter": "python",
   "pygments_lexer": "ipython3",
   "version": "3.6.7"
  }
 },
 "nbformat": 4,
 "nbformat_minor": 2
}
