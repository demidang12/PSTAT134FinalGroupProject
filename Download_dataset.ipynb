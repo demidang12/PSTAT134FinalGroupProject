{
 "cells": [
  {
   "cell_type": "markdown",
   "metadata": {},
   "source": [
    "# Obtain Dataset from Yahoo Finance\n",
    "\n",
    "The module yfinance only works with pandas version 0.24.2 and newer. Therefore, before we run this notebook it is necessary to upgrade pandas to the newest version. "
   ]
  },
  {
   "cell_type": "code",
   "execution_count": 8,
   "metadata": {},
   "outputs": [],
   "source": [
    "# Modules needed to extract data \n",
    "import pandas as pd\n",
    "from pandas_datareader import data as pdr\n",
    "# Package was updated, new way to download\n",
    "import yfinance as yf "
   ]
  },
  {
   "cell_type": "markdown",
   "metadata": {},
   "source": [
    "## Store the dataset in a CSV file\n",
    "\n",
    "The modules of zipline and yfinance are not compatible since zipline uses an older version of pandas. To circumvent this problem, we are using this notebook to obtain the dataset. We save the dataset into a CSV file and then open the CSV file in the main notebook."
   ]
  },
  {
   "cell_type": "code",
   "execution_count": 13,
   "metadata": {},
   "outputs": [
    {
     "name": "stdout",
     "output_type": "stream",
     "text": [
      "[*********************100%***********************]  1 of 1 downloaded\n",
      "[*********************100%***********************]  1 of 1 downloaded\n",
      "[*********************100%***********************]  1 of 1 downloaded\n",
      "[*********************100%***********************]  1 of 1 downloaded\n",
      "[*********************100%***********************]  1 of 1 downloaded\n",
      "[*********************100%***********************]  1 of 1 downloaded\n",
      "[*********************100%***********************]  1 of 1 downloaded\n",
      "[*********************100%***********************]  1 of 1 downloaded\n",
      "[*********************100%***********************]  1 of 1 downloaded\n",
      "[*********************100%***********************]  1 of 1 downloaded\n"
     ]
    }
   ],
   "source": [
    "# Download the stock data from yahoo finance in pandas dataframe\n",
    "yf.pdr_override()\n",
    "AAPLStock = pdr.get_data_yahoo(\"AAPL\",\n",
    "                               start = '2013-01-01',\n",
    "                               end = '2018-12-31',\n",
    "                               interval = '1d')\n",
    "\n",
    "AMZNStock = pdr.get_data_yahoo(\"AMZN\",\n",
    "                               start = '2013-01-01',\n",
    "                               end = '2018-12-31',\n",
    "                               interval = '1d')\n",
    "\n",
    "BAStock = pdr.get_data_yahoo(\"BA\",\n",
    "                             start = '2013-01-01',\n",
    "                             end = '2018-12-31',\n",
    "                            interval = '1d')\n",
    "\n",
    "FBStock = pdr.get_data_yahoo(\"BA\",\n",
    "                             start = '2013-01-01',\n",
    "                             end = '2018-12-31',\n",
    "                             interval = '1d')\n",
    "\n",
    "GOOGStock = pdr.get_data_yahoo(\"GOOG\",\n",
    "                          start = '2013-01-01',\n",
    "                          end = '2018-12-31',\n",
    "                          interval = '1d')\n",
    "\n",
    "MAStock = pdr.get_data_yahoo(\"MA\",\n",
    "                        start = '2013-01-01',\n",
    "                        end = '2018-12-31',\n",
    "                        interval = '1d')\n",
    "\n",
    "MSFTStock = pdr.get_data_yahoo(\"MSFT\",\n",
    "                          start = '2013-01-01',\n",
    "                          end = '2018-12-31',\n",
    "                          interval = '1d')\n",
    "\n",
    "NVDAStock = pdr.get_data_yahoo(\"NVDA\",\n",
    "                          start = '2013-01-01',\n",
    "                          end = '2018-12-31',\n",
    "                          interval = '1d')\n",
    "\n",
    "UNHStock = pdr.get_data_yahoo(\"UNH\",\n",
    "                         start = '2013-01-01',\n",
    "                         end = '2018-12-31',\n",
    "                         interval = '1d')\n",
    "\n",
    "VStock = pdr.get_data_yahoo(\"V\",\n",
    "                       start = '2013-01-01',\n",
    "                       end = '2018-12-31',\n",
    "                       interval = '1d')"
   ]
  },
  {
   "cell_type": "code",
   "execution_count": 17,
   "metadata": {},
   "outputs": [],
   "source": [
    "# Need to convert columns to lowercase for zipline to work\n",
    "VStock.columns = map(str.lower, VStock.columns)\n",
    "# All the stock dataframes\n",
    "StockData = [AAPLStock, AMZNStock, BAStock, FBStock, GOOGStock, MAStock, MSFTStock,\n",
    "            NVDAStock, UNHStock, VStock]\n",
    "for stock in StockData:\n",
    "    stock.columns = map(str.lower, stock.columns)"
   ]
  },
  {
   "cell_type": "code",
   "execution_count": 18,
   "metadata": {},
   "outputs": [],
   "source": [
    "# Save all stock information as a CSV file\n",
    "CSVLabels  = [\"AAPL.csv\", \"AMZN.csv\", \"BA.csv\", \"FB.csv\", \"GOOG.csv\", \"MA.csv\", \"MSFT.csv\", \"NVDA.csv\", \"UNH.csv\", \"V.csv\"]\n",
    "\n",
    "for data in StockData:\n",
    "    for CSVLabel in CSVLabels:\n",
    "        data.to_csv(CSVLabel)"
   ]
  }
 ],
 "metadata": {
  "kernelspec": {
   "display_name": "Python 3",
   "language": "python",
   "name": "python3"
  },
  "language_info": {
   "codemirror_mode": {
    "name": "ipython",
    "version": 3
   },
   "file_extension": ".py",
   "mimetype": "text/x-python",
   "name": "python",
   "nbconvert_exporter": "python",
   "pygments_lexer": "ipython3",
   "version": "3.6.7"
  }
 },
 "nbformat": 4,
 "nbformat_minor": 2
}
