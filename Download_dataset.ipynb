{
 "cells": [
  {
   "cell_type": "markdown",
   "metadata": {},
   "source": [
    "# Obtain Dataset from Yahoo Finance\n",
    "\n",
    "**All of the datasets used for this website was downloaded from https://finance.yahoo.com/. The module yfinance allows us to extract the stock data by python code into our notebooks. The module pandas_datareader allows the extracted data to be read in as a dataframe. The module yfinance only works with pandas version 0.24.2 and newer. Before we run this notebook, we need to upgrade pandas to the newest version. The modeules yfinance and pandas_datareader are not part of the base modules installed in the server. Therefore, everytime the server restarts, we will need to redownload the modules. The following cell uses cell magic in order to run the necessary terminal commands to install the needed modules.** "
   ]
  },
  {
   "cell_type": "code",
   "execution_count": 6,
   "metadata": {},
   "outputs": [
    {
     "name": "stdout",
     "output_type": "stream",
     "text": [
      "Requirement already up-to-date: pandas in /opt/conda/lib/python3.6/site-packages (0.24.2)\n",
      "Requirement already satisfied, skipping upgrade: pytz>=2011k in /opt/conda/lib/python3.6/site-packages (from pandas) (2018.9)\n",
      "Requirement already satisfied, skipping upgrade: numpy>=1.12.0 in /opt/conda/lib/python3.6/site-packages (from pandas) (1.16.3)\n",
      "Requirement already satisfied, skipping upgrade: python-dateutil>=2.5.0 in /opt/conda/lib/python3.6/site-packages (from pandas) (2.8.0)\n",
      "Requirement already satisfied, skipping upgrade: six>=1.5 in /opt/conda/lib/python3.6/site-packages (from python-dateutil>=2.5.0->pandas) (1.12.0)\n",
      "Requirement already satisfied: pandas_datareader in /opt/conda/lib/python3.6/site-packages (0.7.0)\n",
      "Requirement already satisfied: requests>=2.3.0 in /opt/conda/lib/python3.6/site-packages (from pandas_datareader) (2.22.0)\n",
      "Requirement already satisfied: wrapt in /opt/conda/lib/python3.6/site-packages (from pandas_datareader) (1.11.1)\n",
      "Requirement already satisfied: lxml in /opt/conda/lib/python3.6/site-packages (from pandas_datareader) (4.3.3)\n",
      "Requirement already satisfied: pandas>=0.19.2 in /opt/conda/lib/python3.6/site-packages (from pandas_datareader) (0.24.2)\n",
      "Requirement already satisfied: urllib3!=1.25.0,!=1.25.1,<1.26,>=1.21.1 in /opt/conda/lib/python3.6/site-packages (from requests>=2.3.0->pandas_datareader) (1.24.2)\n",
      "Requirement already satisfied: chardet<3.1.0,>=3.0.2 in /opt/conda/lib/python3.6/site-packages (from requests>=2.3.0->pandas_datareader) (3.0.4)\n",
      "Requirement already satisfied: certifi>=2017.4.17 in /opt/conda/lib/python3.6/site-packages (from requests>=2.3.0->pandas_datareader) (2019.3.9)\n",
      "Requirement already satisfied: idna<2.9,>=2.5 in /opt/conda/lib/python3.6/site-packages (from requests>=2.3.0->pandas_datareader) (2.8)\n",
      "Requirement already satisfied: numpy>=1.12.0 in /opt/conda/lib/python3.6/site-packages (from pandas>=0.19.2->pandas_datareader) (1.16.3)\n",
      "Requirement already satisfied: python-dateutil>=2.5.0 in /opt/conda/lib/python3.6/site-packages (from pandas>=0.19.2->pandas_datareader) (2.8.0)\n",
      "Requirement already satisfied: pytz>=2011k in /opt/conda/lib/python3.6/site-packages (from pandas>=0.19.2->pandas_datareader) (2018.9)\n",
      "Requirement already satisfied: six>=1.5 in /opt/conda/lib/python3.6/site-packages (from python-dateutil>=2.5.0->pandas>=0.19.2->pandas_datareader) (1.12.0)\n",
      "Requirement already satisfied: yfinance in /opt/conda/lib/python3.6/site-packages (0.1.42)\n",
      "Requirement already satisfied: numpy>=1.15 in /opt/conda/lib/python3.6/site-packages (from yfinance) (1.16.3)\n",
      "Requirement already satisfied: pandas>=0.24 in /opt/conda/lib/python3.6/site-packages (from yfinance) (0.24.2)\n",
      "Requirement already satisfied: multitasking>=0.0.7 in /opt/conda/lib/python3.6/site-packages (from yfinance) (0.0.9)\n",
      "Requirement already satisfied: requests>=2.20 in /opt/conda/lib/python3.6/site-packages (from yfinance) (2.22.0)\n",
      "Requirement already satisfied: pytz>=2011k in /opt/conda/lib/python3.6/site-packages (from pandas>=0.24->yfinance) (2018.9)\n",
      "Requirement already satisfied: python-dateutil>=2.5.0 in /opt/conda/lib/python3.6/site-packages (from pandas>=0.24->yfinance) (2.8.0)\n",
      "Requirement already satisfied: urllib3!=1.25.0,!=1.25.1,<1.26,>=1.21.1 in /opt/conda/lib/python3.6/site-packages (from requests>=2.20->yfinance) (1.24.2)\n",
      "Requirement already satisfied: certifi>=2017.4.17 in /opt/conda/lib/python3.6/site-packages (from requests>=2.20->yfinance) (2019.3.9)\n",
      "Requirement already satisfied: idna<2.9,>=2.5 in /opt/conda/lib/python3.6/site-packages (from requests>=2.20->yfinance) (2.8)\n",
      "Requirement already satisfied: chardet<3.1.0,>=3.0.2 in /opt/conda/lib/python3.6/site-packages (from requests>=2.20->yfinance) (3.0.4)\n",
      "Requirement already satisfied: six>=1.5 in /opt/conda/lib/python3.6/site-packages (from python-dateutil>=2.5.0->pandas>=0.24->yfinance) (1.12.0)\n"
     ]
    }
   ],
   "source": [
    "%%bash\n",
    "pip install --upgrade pandas;\n",
    "pip install pandas_datareader;\n",
    "pip install yfinance;"
   ]
  },
  {
   "cell_type": "code",
   "execution_count": 7,
   "metadata": {},
   "outputs": [],
   "source": [
    "# Modules needed to extract data \n",
    "import pandas as pd\n",
    "from pandas_datareader import data as pdr\n",
    "import yfinance as yf "
   ]
  },
  {
   "cell_type": "markdown",
   "metadata": {},
   "source": [
    "## Store stock data as CSV\n",
    "\n",
    "*The modules of zipline and yfinance are not compatible since zipline only works with an older version of pandas. To circumvent this problem, we are using this notebook to obtain the dataset. We have saved the dataset into a CSV file to then open the CSV file in the main notebook. The function for saving and reading CSV files is the same for both versions of pandas. For the project, we will be working the pandas version 0.22.0 since that is the version that is compatiable to zipline.* "
   ]
  },
  {
   "cell_type": "markdown",
   "metadata": {},
   "source": [
    "## Decision for stock interval\n",
    "\n",
    "**The zipline algorithm iterates in intervals of daily and minutes. We decided to work with daily data since we are not interested in day trade. We are interested in trading every couple of days. Furthermore, choosing to work with daily data simplifies that project since daily stock data is highly volatile. We will be choosing to only be working with the US stock market. The reason for choosing this stock exchange is simply because we are studying in a US univeristy. The New York stock exchange was first created in the year 1817. We will not be using all the data available from the stock echange. We are interested in creating a portfolio that uses current data. An impactful economic event in modern day US history was the recession in 2008. This recession collapsed the market. To simplfy the project, we have chosen to select a year after 2008 as our starting year for downloading stock data. The stocks chosen are a subset of a well established mutual fund. SPY is the benchmark for our portfolio which we will used to compare how well different models work. SPY is the S&P500 which is a stock index of the 500 biggest publically traded companies. We hope to outperform SPY. If time permits, we will select stocks that are uncorrelated since that will allow for a well balanced portfolio. Finally, the end date for the downloaded stock data is 2018. The year 2018 is the most current and complete year in stock data.**"
   ]
  },
  {
   "cell_type": "code",
   "execution_count": 8,
   "metadata": {},
   "outputs": [
    {
     "name": "stdout",
     "output_type": "stream",
     "text": [
      "[*********************100%***********************]  1 of 1 downloaded\n",
      "[*********************100%***********************]  1 of 1 downloaded\n",
      "[*********************100%***********************]  1 of 1 downloaded\n",
      "[*********************100%***********************]  1 of 1 downloaded\n",
      "[*********************100%***********************]  1 of 1 downloaded\n",
      "[*********************100%***********************]  1 of 1 downloaded\n",
      "[*********************100%***********************]  1 of 1 downloaded\n",
      "[*********************100%***********************]  1 of 1 downloaded\n",
      "[*********************100%***********************]  1 of 1 downloaded\n",
      "[*********************100%***********************]  1 of 1 downloaded\n",
      "[*********************100%***********************]  1 of 1 downloaded\n"
     ]
    }
   ],
   "source": [
    "# Allows us to Download data from yahoo finance with module\n",
    "yf.pdr_override()\n",
    "\n",
    "# Conditions for our stock data\n",
    "startDate = '2013-01-01'\n",
    "endDate = '2018-12-31'\n",
    "intervalCycle = '1d'\n",
    "\n",
    "# Create a class to download \n",
    "class StockDownLoad:\n",
    "    def __init__(self, stock, start, end, interval):\n",
    "        self.stock = stock\n",
    "        self.start = start\n",
    "        self.end = end\n",
    "        self.interval = interval\n",
    "    \n",
    "    def GetData(self): # Function extract data from yahoo finance\n",
    "        return pdr.get_data_yahoo(self.stock, self.start, self.end, interval=self.interval)\n",
    "    \n",
    "    \n",
    "SPYStock = StockDownLoad('SPY',startDate, endDate, intervalCycle).GetData()\n",
    "AAPLStock = StockDownLoad('AAPL',startDate, endDate, intervalCycle).GetData()\n",
    "AMZNStock = StockDownLoad('AMZN',startDate, endDate, intervalCycle).GetData()\n",
    "BAStock = StockDownLoad('BA',startDate, endDate, intervalCycle).GetData()\n",
    "FBStock = StockDownLoad('FB',startDate, endDate, intervalCycle).GetData()\n",
    "GOOGStock = StockDownLoad('GOOG',startDate, endDate, intervalCycle).GetData()\n",
    "MAStock = StockDownLoad('MA',startDate, endDate, intervalCycle).GetData()\n",
    "MSFTStock = StockDownLoad('MSFT',startDate, endDate, intervalCycle).GetData()\n",
    "NVDAStock = StockDownLoad('NVDA',startDate, endDate, intervalCycle).GetData()\n",
    "UNHStock = StockDownLoad('UNH',startDate, endDate, intervalCycle).GetData()\n",
    "VStock = StockDownLoad('V',startDate, endDate, intervalCycle).GetData()"
   ]
  },
  {
   "cell_type": "markdown",
   "metadata": {},
   "source": [
    "## Initial DataWrangling\n",
    "\n",
    "**There are some duplicate rows in the datasets obtained through the module yfinance. The duplicate rows only included the date with missing values in the remainding columns. We decided to remove the duplicate rows since they provided no additional information. Our decision to remove the duplicate rows does not affect the data since the corresponding complete row consisits of no missing values.** "
   ]
  },
  {
   "cell_type": "code",
   "execution_count": 9,
   "metadata": {},
   "outputs": [],
   "source": [
    "# Zipline only works with lowercase column names, convert column in our dataframe to lower\n",
    "# All the stock dataframes\n",
    "StockData = [SPYStock,AAPLStock, AMZNStock, BAStock, FBStock, GOOGStock, MAStock, MSFTStock,\n",
    "            NVDAStock, UNHStock, VStock]\n",
    "# Iteration to convert columns\n",
    "for stock in StockData:\n",
    "    stock.columns = map(str.lower, stock.columns)\n",
    "    stock.dropna(inplace=True)"
   ]
  },
  {
   "cell_type": "code",
   "execution_count": 10,
   "metadata": {},
   "outputs": [],
   "source": [
    "# Iteration to save dataframe as csv\n",
    "stocks  = [\"SPY\",\"AAPL\", \"AMZN\", \"BA\", \"FB\", \"GOOG\", \"MA\", \"MSFT\", \"NVDA\", \"UNH\", \"V\"]\n",
    "\n",
    "for data, stock in zip(StockData,stocks):\n",
    "    data.to_csv('{}.csv'.format(stock))"
   ]
  }
 ],
 "metadata": {
  "kernelspec": {
   "display_name": "Python 3",
   "language": "python",
   "name": "python3"
  },
  "language_info": {
   "codemirror_mode": {
    "name": "ipython",
    "version": 3
   },
   "file_extension": ".py",
   "mimetype": "text/x-python",
   "name": "python",
   "nbconvert_exporter": "python",
   "pygments_lexer": "ipython3",
   "version": "3.6.7"
  }
 },
 "nbformat": 4,
 "nbformat_minor": 2
}
